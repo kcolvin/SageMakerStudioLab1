{
 "cells": [
  {
   "cell_type": "markdown",
   "metadata": {},
   "source": [
    "## Query a cloud-based MySQL database using boto3 and mysql.connector"
   ]
  },
  {
   "cell_type": "code",
   "execution_count": 1,
   "metadata": {},
   "outputs": [],
   "source": [
    "# Import libraries\n",
    "import pandas as pd\n",
    "import numpy as np\n",
    "import boto3\n",
    "import mysql.connector"
   ]
  },
  {
   "cell_type": "code",
   "execution_count": 2,
   "metadata": {},
   "outputs": [],
   "source": [
    "# If needed, install the library to connect to a MySQL database, this takes about 5 minutes.\n",
    "# %conda install -c anaconda mysql-connector-python"
   ]
  },
  {
   "cell_type": "code",
   "execution_count": 3,
   "metadata": {},
   "outputs": [],
   "source": [
    "# Make sure this loads\n",
    "import mysql.connector"
   ]
  },
  {
   "cell_type": "code",
   "execution_count": 4,
   "metadata": {},
   "outputs": [
    {
     "name": "stdout",
     "output_type": "stream",
     "text": [
      "kcolvin\n"
     ]
    }
   ],
   "source": [
    "# Initialize boto3 and make sure credentials are ready connect to AWS\n",
    "session = boto3.Session()\n",
    "sts = session.client('sts')\n",
    "response = sts.get_caller_identity()\n",
    "my_username = response['Arn'].split('/')[1]\n",
    "print(my_username)"
   ]
  },
  {
   "cell_type": "markdown",
   "metadata": {},
   "source": [
    "#### Query a MySQL database, step-by-step"
   ]
  },
  {
   "cell_type": "code",
   "execution_count": 5,
   "metadata": {},
   "outputs": [],
   "source": [
    "# Define parameters to query a cloud-based MySQL server.\n",
    "#\n",
    "HOST = '34.222.176.125'  # DNS name or IP address of the AWS RDS Database server\n",
    "#\n",
    "# Credentials you'll use on the MySQL Server. These are not the same as AWS credentials.\n",
    "USER = 'student'\n",
    "PASSWORD = 'to be supplied in class'\n",
    "#\n",
    "# Which database to query\n",
    "DATABASE = '212'\n",
    "#\n",
    "# Which TCP port to talk over (sometimes this is port 3306)\n",
    "PORT = '80'"
   ]
  },
  {
   "cell_type": "code",
   "execution_count": 6,
   "metadata": {},
   "outputs": [],
   "source": [
    "# To query an AWS database, you must have a connection to that database. Use the parameters above to create a connector.\n",
    "# Connect to the db by creating a 'connector' called conn\n",
    "conn = mysql.connector.connect(\n",
    "    host = HOST,\n",
    "    port = PORT,\n",
    "    user = USER,\n",
    "    password = PASSWORD,\n",
    "    database = DATABASE)"
   ]
  },
  {
   "cell_type": "code",
   "execution_count": 7,
   "metadata": {},
   "outputs": [],
   "source": [
    "# Next, we need to create a cursor object to query data. This is just part of the process.\n",
    "mycursor = conn.cursor()"
   ]
  },
  {
   "cell_type": "code",
   "execution_count": 8,
   "metadata": {},
   "outputs": [],
   "source": [
    "# Next, let's write an SQL query. This is just a string with the right SQL syntax.\n",
    "#\n",
    "# Write the query using proper SQL syntax. You can put any legal MySQL query syntax into the query.\n",
    "# Below we indicate we want to select all columns, but only the first 3 rows\n",
    "# of data from the 'co2_emission' table.\n",
    "query = \"SELECT * FROM co2_emission LIMIT 3\""
   ]
  },
  {
   "cell_type": "code",
   "execution_count": 9,
   "metadata": {},
   "outputs": [],
   "source": [
    "# Execute that query against the database using the cursor we created earlier.\n",
    "mycursor.execute(query)"
   ]
  },
  {
   "cell_type": "code",
   "execution_count": 10,
   "metadata": {},
   "outputs": [],
   "source": [
    "# fetchall() will return all of the rows in the query as a list object of tuples.  \n",
    "# This is useful if we want to use the data in a dataframe\n",
    "myresult = mycursor.fetchall()"
   ]
  },
  {
   "cell_type": "code",
   "execution_count": 11,
   "metadata": {},
   "outputs": [
    {
     "data": {
      "text/plain": [
       "[('Afghanistan', 'AFG', 1949, 14656.0),\n",
       " ('Afghanistan', 'AFG', 1950, 84272.0),\n",
       " ('Afghanistan', 'AFG', 1951, 91600.0)]"
      ]
     },
     "execution_count": 11,
     "metadata": {},
     "output_type": "execute_result"
    }
   ],
   "source": [
    "# Investigate the result\n",
    "# Notice this is a list of tuples\n",
    "myresult"
   ]
  },
  {
   "cell_type": "code",
   "execution_count": 12,
   "metadata": {},
   "outputs": [
    {
     "data": {
      "text/html": [
       "<div>\n",
       "<style scoped>\n",
       "    .dataframe tbody tr th:only-of-type {\n",
       "        vertical-align: middle;\n",
       "    }\n",
       "\n",
       "    .dataframe tbody tr th {\n",
       "        vertical-align: top;\n",
       "    }\n",
       "\n",
       "    .dataframe thead th {\n",
       "        text-align: right;\n",
       "    }\n",
       "</style>\n",
       "<table border=\"1\" class=\"dataframe\">\n",
       "  <thead>\n",
       "    <tr style=\"text-align: right;\">\n",
       "      <th></th>\n",
       "      <th>Country</th>\n",
       "      <th>Code</th>\n",
       "      <th>Year</th>\n",
       "      <th>CO2</th>\n",
       "    </tr>\n",
       "  </thead>\n",
       "  <tbody>\n",
       "    <tr>\n",
       "      <th>0</th>\n",
       "      <td>Afghanistan</td>\n",
       "      <td>AFG</td>\n",
       "      <td>1949</td>\n",
       "      <td>14656.0</td>\n",
       "    </tr>\n",
       "    <tr>\n",
       "      <th>1</th>\n",
       "      <td>Afghanistan</td>\n",
       "      <td>AFG</td>\n",
       "      <td>1950</td>\n",
       "      <td>84272.0</td>\n",
       "    </tr>\n",
       "    <tr>\n",
       "      <th>2</th>\n",
       "      <td>Afghanistan</td>\n",
       "      <td>AFG</td>\n",
       "      <td>1951</td>\n",
       "      <td>91600.0</td>\n",
       "    </tr>\n",
       "  </tbody>\n",
       "</table>\n",
       "</div>"
      ],
      "text/plain": [
       "       Country Code  Year      CO2\n",
       "0  Afghanistan  AFG  1949  14656.0\n",
       "1  Afghanistan  AFG  1950  84272.0\n",
       "2  Afghanistan  AFG  1951  91600.0"
      ]
     },
     "execution_count": 12,
     "metadata": {},
     "output_type": "execute_result"
    }
   ],
   "source": [
    "#Let's supply the column headers for our data\n",
    "headers = ['Country','Code','Year','CO2']\n",
    "# Create a DataFrame using the columns and data from the query\n",
    "df = pd.DataFrame(data = myresult,columns = headers)\n",
    "df"
   ]
  },
  {
   "cell_type": "markdown",
   "metadata": {},
   "source": [
    "#### Query a MySQL database with a 'real' query"
   ]
  },
  {
   "cell_type": "code",
   "execution_count": 13,
   "metadata": {},
   "outputs": [],
   "source": [
    "# Write the query\n",
    "query = \"SELECT * FROM co2_emission\""
   ]
  },
  {
   "cell_type": "code",
   "execution_count": 14,
   "metadata": {},
   "outputs": [
    {
     "name": "stdout",
     "output_type": "stream",
     "text": [
      "The size of the dataframe is: 20853 rows and 4 columns.\n",
      "\n",
      "        Entity Code  Year       CO2\n",
      "0  Afghanistan  AFG  1949   14656.0\n",
      "1  Afghanistan  AFG  1950   84272.0\n",
      "2  Afghanistan  AFG  1951   91600.0\n",
      "3  Afghanistan  AFG  1952   91600.0\n",
      "4  Afghanistan  AFG  1953  106256.0\n",
      "         Entity Code  Year          CO2\n",
      "20848  Zimbabwe  ZWE  2013  11536239.29\n",
      "20849  Zimbabwe  ZWE  2014  11866348.41\n",
      "20850  Zimbabwe  ZWE  2015  10907603.94\n",
      "20851  Zimbabwe  ZWE  2016   9932649.88\n",
      "20852  Zimbabwe  ZWE  2017  10397718.47\n"
     ]
    }
   ],
   "source": [
    "# Same code as above, just do it in a single cell\n",
    "mycursor.execute(query)\n",
    "myresult = mycursor.fetchall()\n",
    "headers = ['Entity','Code','Year','CO2']\n",
    "df = pd.DataFrame(data = myresult,columns = headers)\n",
    "print('The size of the dataframe is:',df.shape[0],'rows and',df.shape[1],'columns.\\n')\n",
    "print(df.head(5))\n",
    "print(df.tail(5))"
   ]
  },
  {
   "cell_type": "markdown",
   "metadata": {},
   "source": [
    "#### Other operations using standard MySQL syntax"
   ]
  },
  {
   "cell_type": "code",
   "execution_count": 15,
   "metadata": {},
   "outputs": [
    {
     "data": {
      "text/plain": [
       "[('athlete_events',),\n",
       " ('avocado',),\n",
       " ('car_payment',),\n",
       " ('co2_emission',),\n",
       " ('county_population',),\n",
       " ('forecast_weather_data',),\n",
       " ('titanic',)]"
      ]
     },
     "execution_count": 15,
     "metadata": {},
     "output_type": "execute_result"
    }
   ],
   "source": [
    "# See what other tables are in the '212' database\n",
    "query = \"SHOW TABLES\"\n",
    "# Same pattern\n",
    "mycursor.execute(query)\n",
    "myresult = mycursor.fetchall()\n",
    "myresult"
   ]
  },
  {
   "cell_type": "code",
   "execution_count": 16,
   "metadata": {},
   "outputs": [
    {
     "data": {
      "text/plain": [
       "[('information_schema',),\n",
       " ('212',),\n",
       " ('312',),\n",
       " ('album',),\n",
       " ('dkraker',),\n",
       " ('dkumamot',),\n",
       " ('flighttest',),\n",
       " ('kcolvin',),\n",
       " ('kycolvin',),\n",
       " ('lknott',),\n",
       " ('mysql',),\n",
       " ('nmediati',),\n",
       " ('northwind',),\n",
       " ('nrodri31',),\n",
       " ('performance_schema',),\n",
       " ('sys',),\n",
       " ('test',),\n",
       " ('w3schools',)]"
      ]
     },
     "execution_count": 16,
     "metadata": {},
     "output_type": "execute_result"
    }
   ],
   "source": [
    "# See what other databases are on the MySQL db server\n",
    "query = \"SHOW DATABASES\"\n",
    "# Same code as above, just do it in a single cell\n",
    "mycursor.execute(query)\n",
    "myresult = mycursor.fetchall()\n",
    "myresult"
   ]
  },
  {
   "cell_type": "markdown",
   "metadata": {},
   "source": [
    "#### If you want to change databases, you have to create a new connector"
   ]
  },
  {
   "cell_type": "code",
   "execution_count": 17,
   "metadata": {},
   "outputs": [],
   "source": [
    "# It is good practice to close your connections once you are done with them.\n",
    "conn.close()"
   ]
  },
  {
   "cell_type": "code",
   "execution_count": 18,
   "metadata": {},
   "outputs": [],
   "source": [
    "# Change databases to '312'\n",
    "DATABASE = '312'\n",
    "# And create a new connection\n",
    "conn = mysql.connector.connect(\n",
    "    host = HOST,\n",
    "    port = PORT,\n",
    "    user = USER,\n",
    "    password = PASSWORD,\n",
    "    database = DATABASE)"
   ]
  },
  {
   "cell_type": "code",
   "execution_count": 19,
   "metadata": {},
   "outputs": [],
   "source": [
    "# And a new cursor()\n",
    "mycursor = conn.cursor()"
   ]
  },
  {
   "cell_type": "code",
   "execution_count": 20,
   "metadata": {},
   "outputs": [
    {
     "data": {
      "text/plain": [
       "[('clean',), ('cutting',)]"
      ]
     },
     "execution_count": 20,
     "metadata": {},
     "output_type": "execute_result"
    }
   ],
   "source": [
    "# Show tables from the '312' database\n",
    "query = 'SHOW TABLES'\n",
    "# Same code as above, just do it in a single cell\n",
    "mycursor.execute(query)\n",
    "myresult = mycursor.fetchall()\n",
    "myresult"
   ]
  },
  {
   "cell_type": "code",
   "execution_count": 21,
   "metadata": {},
   "outputs": [
    {
     "data": {
      "text/plain": [
       "[('serial_num', 'int(11)', 'YES', '', None, ''),\n",
       " ('process', 'varchar(1024)', 'YES', '', None, '')]"
      ]
     },
     "execution_count": 21,
     "metadata": {},
     "output_type": "execute_result"
    }
   ],
   "source": [
    "# What is the description of the 'clean' table in the database?\n",
    "query = 'DESCRIBE clean'\n",
    "# Same code as above, just do it in a single cell\n",
    "mycursor.execute(query)\n",
    "myresult = mycursor.fetchall()\n",
    "myresult"
   ]
  },
  {
   "cell_type": "code",
   "execution_count": 22,
   "metadata": {},
   "outputs": [
    {
     "name": "stdout",
     "output_type": "stream",
     "text": [
      "The size of the dataframe is: 9517 rows and 2 columns.\n",
      "\n",
      "   serial_num process\n",
      "0       10000   clean\n",
      "1       10001   clean\n",
      "2       10002   clean\n",
      "3       10003   clean\n",
      "4       10004   clean\n",
      "      serial_num process\n",
      "9512       24996   clean\n",
      "9513       24997   clean\n",
      "9514       24998   clean\n",
      "9515       24999   clean\n",
      "9516       25000   clean\n"
     ]
    }
   ],
   "source": [
    "# Let's get everything in the 'clean' table\n",
    "query = 'SELECT * FROM clean'\n",
    "# Same code as above, just do it in a single cell\n",
    "mycursor.execute(query)\n",
    "myresult = mycursor.fetchall()\n",
    "headers = ['serial_num', 'process']\n",
    "# Create the df\n",
    "df = pd.DataFrame(data = myresult,columns = headers)\n",
    "print('The size of the dataframe is:',df.shape[0],'rows and',df.shape[1],'columns.\\n')\n",
    "print(df.head(5))\n",
    "print(df.tail(5))\n",
    "# I'm done with the connection, so close it\n",
    "conn.close()"
   ]
  },
  {
   "cell_type": "markdown",
   "metadata": {},
   "source": [
    "## Assignment\n",
    "Your assignment is to:\n",
    "- connect to the 'w3schools' database\n",
    "- show all tables in that database\n",
    "- describe the details about the 'customers' table\n",
    "- query all columns and rows from the 'customers' table and load the rows into a pandas dataframe, with column headings\n",
    "- save that dataframe as a .csv file at the S3 location: bucket = gse580, key = 'your username'/data/customers.csv\n",
    "\n",
    "Assessment of assignment: Verify valid .csv file exists at: gse580/'username'/data/customers.csv"
   ]
  },
  {
   "cell_type": "code",
   "execution_count": 30,
   "metadata": {},
   "outputs": [],
   "source": [
    "# Your code starting here"
   ]
  },
  {
   "cell_type": "code",
   "execution_count": null,
   "metadata": {},
   "outputs": [],
   "source": []
  }
 ],
 "metadata": {
  "kernelspec": {
   "display_name": "default:Python",
   "language": "python",
   "name": "conda-env-default-py"
  },
  "language_info": {
   "codemirror_mode": {
    "name": "ipython",
    "version": 3
   },
   "file_extension": ".py",
   "mimetype": "text/x-python",
   "name": "python",
   "nbconvert_exporter": "python",
   "pygments_lexer": "ipython3",
   "version": "3.9.9"
  }
 },
 "nbformat": 4,
 "nbformat_minor": 4
}
