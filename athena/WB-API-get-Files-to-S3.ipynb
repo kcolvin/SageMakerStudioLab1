{
 "cells": [
  {
   "cell_type": "markdown",
   "metadata": {},
   "source": [
    "### Code to use World Bank API and create many .csv files in S3"
   ]
  },
  {
   "cell_type": "code",
   "execution_count": 5,
   "metadata": {},
   "outputs": [],
   "source": [
    "import requests # the library we'll use to call the API\n",
    "import pandas as pd # good ole pandas\n",
    "import json # Used to deal with the json objects that return from the API\n",
    "import boto3 # You know this one!\n",
    "import io  # Used for some input/output functions below"
   ]
  },
  {
   "cell_type": "code",
   "execution_count": 6,
   "metadata": {},
   "outputs": [
    {
     "name": "stdout",
     "output_type": "stream",
     "text": [
      "kcolvin\n"
     ]
    }
   ],
   "source": [
    "# Make sure credentials are set\n",
    "session = boto3.Session()\n",
    "sts = session.client('sts')\n",
    "response = sts.get_caller_identity()\n",
    "my_username = response['Arn'].split('/')[1]\n",
    "print(my_username)\n",
    "s3c = session.client('s3')"
   ]
  },
  {
   "cell_type": "code",
   "execution_count": 7,
   "metadata": {},
   "outputs": [
    {
     "data": {
      "text/html": [
       "<div>\n",
       "<style scoped>\n",
       "    .dataframe tbody tr th:only-of-type {\n",
       "        vertical-align: middle;\n",
       "    }\n",
       "\n",
       "    .dataframe tbody tr th {\n",
       "        vertical-align: top;\n",
       "    }\n",
       "\n",
       "    .dataframe thead th {\n",
       "        text-align: right;\n",
       "    }\n",
       "</style>\n",
       "<table border=\"1\" class=\"dataframe\">\n",
       "  <thead>\n",
       "    <tr style=\"text-align: right;\">\n",
       "      <th></th>\n",
       "      <th>id</th>\n",
       "      <th>name</th>\n",
       "    </tr>\n",
       "  </thead>\n",
       "  <tbody>\n",
       "    <tr>\n",
       "      <th>0</th>\n",
       "      <td>ABW</td>\n",
       "      <td>Aruba</td>\n",
       "    </tr>\n",
       "    <tr>\n",
       "      <th>1</th>\n",
       "      <td>AFE</td>\n",
       "      <td>Africa Eastern and Southern</td>\n",
       "    </tr>\n",
       "    <tr>\n",
       "      <th>2</th>\n",
       "      <td>AFG</td>\n",
       "      <td>Afghanistan</td>\n",
       "    </tr>\n",
       "    <tr>\n",
       "      <th>3</th>\n",
       "      <td>AFR</td>\n",
       "      <td>Africa</td>\n",
       "    </tr>\n",
       "    <tr>\n",
       "      <th>4</th>\n",
       "      <td>AFW</td>\n",
       "      <td>Africa Western and Central</td>\n",
       "    </tr>\n",
       "  </tbody>\n",
       "</table>\n",
       "</div>"
      ],
      "text/plain": [
       "    id                         name\n",
       "0  ABW                        Aruba\n",
       "1  AFE  Africa Eastern and Southern\n",
       "2  AFG                  Afghanistan\n",
       "3  AFR                       Africa\n",
       "4  AFW   Africa Western and Central"
      ]
     },
     "execution_count": 7,
     "metadata": {},
     "output_type": "execute_result"
    }
   ],
   "source": [
    "# Get all the countries\n",
    "url = 'http://api.worldbank.org/v2/country/?format=json&per_page=500'\n",
    "# Call the API again\n",
    "r = requests.get(url)\n",
    "# Now simply load the data into a dataframe\n",
    "cl_df = pd.DataFrame(r.json()[1])\n",
    "cl_df = cl_df[['id','name']]\n",
    "cl_df.head()"
   ]
  },
  {
   "cell_type": "markdown",
   "metadata": {},
   "source": [
    "### GDP Indicator"
   ]
  },
  {
   "cell_type": "code",
   "execution_count": null,
   "metadata": {},
   "outputs": [],
   "source": [
    "# Function to save DataFrame to S3 in the GDP folder\n",
    "def save_to_s3(fn,df):\n",
    "    # fn = filename\n",
    "    # df = dataframe\n",
    "    bucket  = 'gse580-read-only'\n",
    "    key = 'athena/world-bank-data/GDP/' + fn \n",
    "    ##\n",
    "    # Code to use the put_object function to save clean_df as a .csv file in S3\n",
    "    with io.StringIO() as csv_buffer:\n",
    "        # Use the pandas to_csv function\n",
    "        df.to_csv(csv_buffer, index=False)\n",
    "        #\n",
    "        # Here is the put_object function\n",
    "        response = s3c.put_object(Bucket=bucket, Key=key, Body=csv_buffer.getvalue())\n",
    "        #\n",
    "        status = response.get(\"ResponseMetadata\", {}).get(\"HTTPStatusCode\")\n",
    "        #\n",
    "        if status == 200:\n",
    "            print(f\"Successful S3 put_object response. Status - {status}\")\n",
    "        else:\n",
    "            print(f\"Unsuccessful S3 put_object response. Status - {status}\")"
   ]
  },
  {
   "cell_type": "code",
   "execution_count": 4,
   "metadata": {},
   "outputs": [],
   "source": [
    "# Loop though all countries\n",
    "for index, row in cl_df.iterrows():\n",
    "    base_url = 'http://api.worldbank.org/v2/countries/'\n",
    "    #ctry = 'br;cn;us;de/'\n",
    "    ctry = row['id'] + '/'\n",
    "    #ind = 'SP.POP.TOTL/?'\n",
    "    ind = 'NY.GDP.MKTP.CD/?'\n",
    "    form = 'format=json'\n",
    "    num  = '&per_page=500'\n",
    "\n",
    "    # Build the final string\n",
    "    url = base_url + ctry + 'indicators/' + ind + form + num\n",
    "    print(url)\n",
    "    print('Country:',row['name'])\n",
    "\n",
    "    # Call the API\n",
    "    r = requests.get(url)\n",
    "\n",
    "    # Try to convert to df and save to S3\n",
    "    try:\n",
    "        df = pd.DataFrame(r.json()[1])\n",
    "        #print(df.head(2))\n",
    "        # Clean up the df\n",
    "        df2 = df[['countryiso3code','date','value']]\n",
    "        fn = ind.split('/')[0] + '-' + row['id'] + '.csv' # Build filename\n",
    "        print(fn)\n",
    "        # Save it to s3\n",
    "        save_to_s3(fn,df2)\n",
    "    except:\n",
    "        print(\"Something didn't work with:\",row['id'],row['name'])"
   ]
  },
  {
   "cell_type": "markdown",
   "metadata": {},
   "source": [
    "### Total Population Indicator"
   ]
  },
  {
   "cell_type": "code",
   "execution_count": 8,
   "metadata": {},
   "outputs": [],
   "source": [
    "# Function to save DataFrame to S3 in the POP folder\n",
    "def save_to_s3(fn,df):\n",
    "    # fn = filename\n",
    "    # df = dataframe\n",
    "    bucket  = 'gse580-read-only'\n",
    "    key = 'athena/world-bank-data/POP/' + fn \n",
    "    ##\n",
    "    # Code to use the put_object function to save clean_df as a .csv file in S3\n",
    "    with io.StringIO() as csv_buffer:\n",
    "        # Use the pandas to_csv function\n",
    "        df.to_csv(csv_buffer, index=False)\n",
    "        #\n",
    "        # Here is the put_object function\n",
    "        response = s3c.put_object(Bucket=bucket, Key=key, Body=csv_buffer.getvalue())\n",
    "        #\n",
    "        status = response.get(\"ResponseMetadata\", {}).get(\"HTTPStatusCode\")\n",
    "        #\n",
    "        if status == 200:\n",
    "            print(f\"Successful S3 put_object response. Status - {status}\")\n",
    "        else:\n",
    "            print(f\"Unsuccessful S3 put_object response. Status - {status}\")"
   ]
  },
  {
   "cell_type": "code",
   "execution_count": null,
   "metadata": {},
   "outputs": [],
   "source": [
    "# Loop though all countries\n",
    "for index, row in cl_df.iterrows():\n",
    "    base_url = 'http://api.worldbank.org/v2/countries/'\n",
    "    #ctry = 'br;cn;us;de/'\n",
    "    ctry = row['id'] + '/'\n",
    "    ind = 'SP.POP.TOTL/?'\n",
    "    form = 'format=json'\n",
    "    num  = '&per_page=500'\n",
    "\n",
    "    # Build the final string\n",
    "    url = base_url + ctry + 'indicators/' + ind + form + num\n",
    "    print(url)\n",
    "    print('Country:',row['name'])\n",
    "\n",
    "    # Call the API\n",
    "    r = requests.get(url)\n",
    "\n",
    "    # Try to convert to df and save to S3\n",
    "    try:\n",
    "        df = pd.DataFrame(r.json()[1])\n",
    "        #print(df.head(2))\n",
    "        # Clean up the df\n",
    "        df2 = df[['countryiso3code','date','value']]\n",
    "        fn = ind.split('/')[0] + '-' + row['id'] + '.csv' # Build filename\n",
    "        print(fn)\n",
    "        # Save it to s3\n",
    "        save_to_s3(fn,df2)\n",
    "    except:\n",
    "        print(\"Something didn't work with:\",row['id'],row['name'])"
   ]
  },
  {
   "cell_type": "code",
   "execution_count": null,
   "metadata": {},
   "outputs": [],
   "source": []
  },
  {
   "cell_type": "code",
   "execution_count": null,
   "metadata": {},
   "outputs": [],
   "source": [
    "# Check a specific file to make sure it is valid\n",
    "#\n",
    "# Load a .csv file from S3 straight into a pandas df\n",
    "bucket = 'gse580-read-only'\n",
    "key = 'athena/world-bank-data/POP/SP.POP.TOTL-BEL.csv'\n",
    "#\n",
    "# Call the 'get_object' function from boto3. This is a little different than the download_file() from above. \n",
    "response = s3c.get_object(Bucket=bucket, Key=key)\n",
    "#\n",
    "# Get the HTTPStatusCode from the response\n",
    "status = response.get(\"ResponseMetadata\", {}).get(\"HTTPStatusCode\")\n",
    "\n",
    "if status == 200:\n",
    "    # If all OK, then create the DataFrame\n",
    "    print(f\"Successful S3 get_object response. Status - {status}\")\n",
    "    df = pd.read_csv(response.get('Body'))\n",
    "else:\n",
    "    # See what the response is and troubleshoot\n",
    "    print(f\"Unsuccessful S3 get_object response. Status - {status}\")\n",
    "#\n",
    "# Assuming it worked, show the df.head()\n",
    "df"
   ]
  },
  {
   "cell_type": "code",
   "execution_count": null,
   "metadata": {},
   "outputs": [],
   "source": [
    "# Verify it exists:\n",
    "response = s3c.list_objects(Bucket=bucket)\n",
    "all_objects = response['Contents']\n",
    "for obj in all_objects:\n",
    "    # Search for your key in all the keys\n",
    "    if key in obj['Key']:\n",
    "        print('It does exist:')\n",
    "        print(obj['Key'])"
   ]
  },
  {
   "cell_type": "code",
   "execution_count": null,
   "metadata": {},
   "outputs": [],
   "source": []
  }
 ],
 "metadata": {
  "kernelspec": {
   "display_name": "default:Python",
   "language": "python",
   "name": "conda-env-default-py"
  },
  "language_info": {
   "codemirror_mode": {
    "name": "ipython",
    "version": 3
   },
   "file_extension": ".py",
   "mimetype": "text/x-python",
   "name": "python",
   "nbconvert_exporter": "python",
   "pygments_lexer": "ipython3",
   "version": "3.9.9"
  }
 },
 "nbformat": 4,
 "nbformat_minor": 4
}
