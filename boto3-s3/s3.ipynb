{
 "cells": [
  {
   "cell_type": "markdown",
   "metadata": {},
   "source": [
    "## Introduction to using the AWS System Development Kit (SDK) using Python\n",
    "Last week, we used the 'AWS CLI' to work with files in S3. This week, we are going to do perform very similar functions, but we are going to use Python instead of the CLI.\n",
    "<P>\n"
   ]
  },
  {
   "cell_type": "markdown",
   "metadata": {},
   "source": [
    "### Prep: Install boto3 module"
   ]
  },
  {
   "cell_type": "code",
   "execution_count": 1,
   "metadata": {},
   "outputs": [],
   "source": [
    "# First, import the 'sys' package. This is just useful functions we need.\n",
    "import sys\n",
    "#\n",
    "# Some troubleshooting code below, if needed. Uncomment to use:\n",
    "# List all installed modules\n",
    "#!{sys.executable} -m pip list\n",
    "# Check Python version\n",
    "#!python --version"
   ]
  },
  {
   "cell_type": "markdown",
   "metadata": {},
   "source": [
    "##### If you don't have boto3 installed, you need to install this module. You must 'install' a package before you can 'import' it. Boto3 is the Python AWS module. You only need to do this once."
   ]
  },
  {
   "cell_type": "code",
   "execution_count": 2,
   "metadata": {},
   "outputs": [],
   "source": [
    "# This should work for almost all installations of Jupyter Notebook\n",
    "#\n",
    "# Call 'pip install boto3'. Uncomment this next line:\n",
    "#!{sys.executable} -m pip install boto3\n",
    "# \n",
    "# If pip fails, try 'conda install'. If necessary, uncomment the next line.\n",
    "#!conda install --yes --prefix {sys.prefix} boto3"
   ]
  },
  {
   "cell_type": "markdown",
   "metadata": {},
   "source": [
    "### Once boto3 is installed, start here:"
   ]
  },
  {
   "cell_type": "code",
   "execution_count": 3,
   "metadata": {},
   "outputs": [],
   "source": [
    "# If boto3 is installed, then we can import it. If no error from running this cell, then we are ready to go.\n",
    "import boto3"
   ]
  },
  {
   "cell_type": "code",
   "execution_count": 4,
   "metadata": {},
   "outputs": [],
   "source": [
    "# Import a couple other useful packages. Hopefully, you have already installed pandas\n",
    "# pandas has useful data types and methods.\n",
    "import pandas as pd\n",
    "# The io module provides Python’s main facilities for dealing with various types of I/O.\n",
    "import io"
   ]
  },
  {
   "cell_type": "code",
   "execution_count": 5,
   "metadata": {},
   "outputs": [],
   "source": [
    "# Create a boto3 session.  This creates an object which allows us to interact with AWS.\n",
    "#\n",
    "session = boto3.Session()"
   ]
  },
  {
   "cell_type": "code",
   "execution_count": 6,
   "metadata": {},
   "outputs": [
    {
     "data": {
      "text/plain": [
       "{'UserId': 'AIDAWWVMBM7EGCKXQSL4Y',\n",
       " 'Account': '460996044744',\n",
       " 'Arn': 'arn:aws:iam::460996044744:user/kcolvin',\n",
       " 'ResponseMetadata': {'RequestId': 'aed27e2a-27d5-4dfa-85e8-b1d436917e55',\n",
       "  'HTTPStatusCode': 200,\n",
       "  'HTTPHeaders': {'x-amzn-requestid': 'aed27e2a-27d5-4dfa-85e8-b1d436917e55',\n",
       "   'content-type': 'text/xml',\n",
       "   'content-length': '404',\n",
       "   'date': 'Wed, 02 Feb 2022 23:05:15 GMT'},\n",
       "  'RetryAttempts': 0}}"
      ]
     },
     "execution_count": 6,
     "metadata": {},
     "output_type": "execute_result"
    }
   ],
   "source": [
    "# First, let's make sure we have authorization to use our AWS account.\n",
    "# This gets your credentials from the AWS CLI that we configured last week.\n",
    "# Create a sts client object (Secure Token Service)\n",
    "sts = session.client('sts')\n",
    "#\n",
    "# Ask the client to report my identity (or credentials)\n",
    "# You should see a line with:\n",
    "#  'Arn': 'arn:aws:iam::460996044744:user/<your username>'\n",
    "response = sts.get_caller_identity()\n",
    "response"
   ]
  },
  {
   "cell_type": "code",
   "execution_count": 7,
   "metadata": {},
   "outputs": [
    {
     "name": "stdout",
     "output_type": "stream",
     "text": [
      "kcolvin\n"
     ]
    }
   ],
   "source": [
    "# From the response, find your username\n",
    "# Get the Arn key, then split the string at the '/' character\n",
    "# Load the 2nd element [1] from that split string.\n",
    "my_username = response['Arn'].split('/')[1]\n",
    "print(my_username)"
   ]
  },
  {
   "cell_type": "code",
   "execution_count": 8,
   "metadata": {},
   "outputs": [],
   "source": [
    "# If the above cell worked, then we can continue.  If it failed, then you have to troubleshoot before continuing.\n",
    "#\n",
    "# Create S3 client. This object says we can interact with the S3 service on AWS.\n",
    "s3c = session.client('s3')"
   ]
  },
  {
   "cell_type": "markdown",
   "metadata": {},
   "source": [
    "#### Using AWS S3"
   ]
  },
  {
   "cell_type": "markdown",
   "metadata": {},
   "source": [
    "##### 'list buckets'"
   ]
  },
  {
   "cell_type": "code",
   "execution_count": 9,
   "metadata": {},
   "outputs": [
    {
     "name": "stdout",
     "output_type": "stream",
     "text": [
      "response type is:  <class 'dict'> \n",
      "\n",
      "Name of the buckets:\n",
      "\n",
      "athena-ime312-data\n",
      "athena-ime312-results\n",
      "cf-templates-1557tsq4h6qye-us-west-2\n",
      "ftp-dlink-cam1\n",
      "gse580\n",
      "gse580-read-only\n",
      "kcolvintemp\n",
      "msba-rekognition\n",
      "temp-235612\n"
     ]
    }
   ],
   "source": [
    "# Here is the 'list_buckets' function\n",
    "#\n",
    "# Call the function and store the results in the variable 'response'\n",
    "response = s3c.list_buckets()  # Use the list_buckets() function from S3 boto3 library\n",
    "#\n",
    "# The response is a JSON object. Python calls this a 'dictionary' or 'dict'. To work with AWS in Python, you need \n",
    "# to be very familiar with dictionaries\n",
    "print('response type is: ', type(response),'\\n')\n",
    "#\n",
    "# Filter all info except the 'Buckets' key\n",
    "bucket_names = response['Buckets']\n",
    "#\n",
    "# Loop though all the buckets and pull out just the 'Name' \n",
    "print('Name of the buckets:\\n')\n",
    "for name in bucket_names:\n",
    "    print(name['Name'])"
   ]
  },
  {
   "cell_type": "code",
   "execution_count": 9,
   "metadata": {},
   "outputs": [
    {
     "data": {
      "text/plain": [
       "{'ResponseMetadata': {'RequestId': '5NHMH6GZJEN5VWD1',\n",
       "  'HostId': 'aDAhUpacp3AJqxZ4NE+CtkkcesLBZgNHSACIjA09GW5VYYXef7EQ4Sbe+2i1ggkQm6q4MhWyK/Y=',\n",
       "  'HTTPStatusCode': 200,\n",
       "  'HTTPHeaders': {'x-amz-id-2': 'aDAhUpacp3AJqxZ4NE+CtkkcesLBZgNHSACIjA09GW5VYYXef7EQ4Sbe+2i1ggkQm6q4MhWyK/Y=',\n",
       "   'x-amz-request-id': '5NHMH6GZJEN5VWD1',\n",
       "   'date': 'Fri, 21 Jan 2022 21:37:00 GMT',\n",
       "   'content-type': 'application/xml',\n",
       "   'transfer-encoding': 'chunked',\n",
       "   'server': 'AmazonS3'},\n",
       "  'RetryAttempts': 0},\n",
       " 'Buckets': [{'Name': 'athena-ime312-data',\n",
       "   'CreationDate': datetime.datetime(2021, 2, 18, 17, 46, 59, tzinfo=tzutc())},\n",
       "  {'Name': 'athena-ime312-results',\n",
       "   'CreationDate': datetime.datetime(2021, 2, 18, 17, 47, 20, tzinfo=tzutc())},\n",
       "  {'Name': 'cf-templates-1557tsq4h6qye-us-west-2',\n",
       "   'CreationDate': datetime.datetime(2020, 2, 18, 18, 43, 41, tzinfo=tzutc())},\n",
       "  {'Name': 'ftp-dlink-cam1',\n",
       "   'CreationDate': datetime.datetime(2020, 8, 12, 4, 21, 54, tzinfo=tzutc())},\n",
       "  {'Name': 'gse580',\n",
       "   'CreationDate': datetime.datetime(2022, 1, 14, 20, 14, 10, tzinfo=tzutc())},\n",
       "  {'Name': 'gse580-read-only',\n",
       "   'CreationDate': datetime.datetime(2022, 1, 18, 1, 21, 21, tzinfo=tzutc())},\n",
       "  {'Name': 'kcolvintemp',\n",
       "   'CreationDate': datetime.datetime(2020, 12, 29, 20, 38, 3, tzinfo=tzutc())},\n",
       "  {'Name': 'temp-235612',\n",
       "   'CreationDate': datetime.datetime(2020, 2, 19, 14, 4, 37, tzinfo=tzutc())}],\n",
       " 'Owner': {'DisplayName': 'dxhub-sandbox-04',\n",
       "  'ID': 'becb4a69194131e035dbd40421a28928e4958d7a3f6c8eb0268d60d8c61c374a'}}"
      ]
     },
     "execution_count": 9,
     "metadata": {},
     "output_type": "execute_result"
    }
   ],
   "source": [
    "# Let's not filter the response above. Let's look at the whole json object returned from AWS.\n",
    "response"
   ]
  },
  {
   "cell_type": "markdown",
   "metadata": {},
   "source": [
    "#### Quick refresher on Python dictionaries"
   ]
  },
  {
   "cell_type": "code",
   "execution_count": 11,
   "metadata": {},
   "outputs": [
    {
     "name": "stdout",
     "output_type": "stream",
     "text": [
      "The type of the variable my_car is:  <class 'dict'>\n",
      "The model of my_car is:  Sienna\n",
      "All the keys:  dict_keys(['brand', 'model', 'year'])\n",
      "All the values:  dict_values(['Toyota', 'Sienna', 1999])\n"
     ]
    },
    {
     "data": {
      "text/plain": [
       "{'brand': 'Toyota', 'model': 'Sienna', 'year': 1999}"
      ]
     },
     "execution_count": 11,
     "metadata": {},
     "output_type": "execute_result"
    }
   ],
   "source": [
    "# A dictionary is a collection of 'keys' and 'values'. For each key, there is a related value.\n",
    "# define a dict\n",
    "my_car ={'brand': 'Toyota',\n",
    "         'model': 'Sienna',\n",
    "         'year': 1999}\n",
    "# Show the variable type\n",
    "print('The type of the variable my_car is: ',type(my_car))\n",
    "#\n",
    "# If you know a 'key', get the value using square brackets\n",
    "print('The model of my_car is: ',my_car['model'])\n",
    "# Show all they keys\n",
    "print('All the keys: ',my_car.keys())\n",
    "# Show all the values\n",
    "print('All the values: ',my_car.values())\n",
    "#\n",
    "# Just show the dictionary:\n",
    "my_car"
   ]
  },
  {
   "cell_type": "code",
   "execution_count": 12,
   "metadata": {},
   "outputs": [
    {
     "name": "stdout",
     "output_type": "stream",
     "text": [
      "\n",
      "The full contents of response:\n",
      "\n"
     ]
    },
    {
     "data": {
      "text/plain": [
       "{'ResponseMetadata': {'RequestId': 'HBKCX8E7XS629T9X',\n",
       "  'HostId': '0Wbxh3Ryt67u/FeYC7Fu3B0zIhLIuyGvd/FCw8oUusVQIMgEg7I6A86K4ciRyXGdisPKgLJivhU=',\n",
       "  'HTTPStatusCode': 200,\n",
       "  'HTTPHeaders': {'x-amz-id-2': '0Wbxh3Ryt67u/FeYC7Fu3B0zIhLIuyGvd/FCw8oUusVQIMgEg7I6A86K4ciRyXGdisPKgLJivhU=',\n",
       "   'x-amz-request-id': 'HBKCX8E7XS629T9X',\n",
       "   'date': 'Fri, 21 Jan 2022 21:43:12 GMT',\n",
       "   'content-type': 'application/xml',\n",
       "   'transfer-encoding': 'chunked',\n",
       "   'server': 'AmazonS3'},\n",
       "  'RetryAttempts': 0},\n",
       " 'Buckets': [{'Name': 'athena-ime312-data',\n",
       "   'CreationDate': datetime.datetime(2021, 2, 18, 17, 46, 59, tzinfo=tzutc())},\n",
       "  {'Name': 'athena-ime312-results',\n",
       "   'CreationDate': datetime.datetime(2021, 2, 18, 17, 47, 20, tzinfo=tzutc())},\n",
       "  {'Name': 'cf-templates-1557tsq4h6qye-us-west-2',\n",
       "   'CreationDate': datetime.datetime(2020, 2, 18, 18, 43, 41, tzinfo=tzutc())},\n",
       "  {'Name': 'ftp-dlink-cam1',\n",
       "   'CreationDate': datetime.datetime(2020, 8, 12, 4, 21, 54, tzinfo=tzutc())},\n",
       "  {'Name': 'gse580',\n",
       "   'CreationDate': datetime.datetime(2022, 1, 14, 20, 14, 10, tzinfo=tzutc())},\n",
       "  {'Name': 'gse580-read-only',\n",
       "   'CreationDate': datetime.datetime(2022, 1, 18, 1, 21, 21, tzinfo=tzutc())},\n",
       "  {'Name': 'kcolvintemp',\n",
       "   'CreationDate': datetime.datetime(2020, 12, 29, 20, 38, 3, tzinfo=tzutc())},\n",
       "  {'Name': 'temp-235612',\n",
       "   'CreationDate': datetime.datetime(2020, 2, 19, 14, 4, 37, tzinfo=tzutc())}],\n",
       " 'Owner': {'DisplayName': 'dxhub-sandbox-04',\n",
       "  'ID': 'becb4a69194131e035dbd40421a28928e4958d7a3f6c8eb0268d60d8c61c374a'}}"
      ]
     },
     "execution_count": 12,
     "metadata": {},
     "output_type": "execute_result"
    }
   ],
   "source": [
    "# When AWS responds, it returns a dict. You have to deal with those dicts:\n",
    "# Repeating code from above:\n",
    "response = s3c.list_buckets()\n",
    "# Show everyting included in 'buckets'\n",
    "print('\\nThe full contents of response:\\n')\n",
    "response"
   ]
  },
  {
   "cell_type": "code",
   "execution_count": 13,
   "metadata": {},
   "outputs": [
    {
     "data": {
      "text/plain": [
       "'athena-ime312-data'"
      ]
     },
     "execution_count": 13,
     "metadata": {},
     "output_type": "execute_result"
    }
   ],
   "source": [
    "# Show only the name of the first bucket\n",
    "response['Buckets'][0]['Name']"
   ]
  },
  {
   "cell_type": "markdown",
   "metadata": {},
   "source": [
    "##### 'list objects'"
   ]
  },
  {
   "cell_type": "code",
   "execution_count": 14,
   "metadata": {},
   "outputs": [
    {
     "name": "stdout",
     "output_type": "stream",
     "text": [
      "ayagar/\n",
      "ayagar/IMG_7149.JPG\n",
      "ayagar/data/data.csv\n",
      "ayagar/index.html\n",
      "bbschnei/\n",
      "bbschnei/data/clean_data.csv\n",
      "bbschnei/data/data.csv\n",
      "bbschnei/index.html\n",
      "benba/data/data.csv\n",
      "bzwarg/\n",
      "bzwarg/data/\n",
      "bzwarg/data/clean_data.csv\n",
      "bzwarg/data/data.csv\n",
      "bzwarg/index.html\n",
      "cehayden/\n",
      "cehayden/IMG_5414.jpeg\n",
      "cehayden/data/data.csv\n",
      "cehayden/index.html\n",
      "chartman/\n",
      "chartman/chartman.html\n",
      "chartman/data/\n",
      "chartman/data/data.csv\n",
      "clopez/\n",
      "clopez/data/data.csv\n",
      "clopez/index.html\n",
      "cnilsson/\n",
      "cnilsson/data/\n",
      "cnilsson/data/data.csv\n",
      "cnilsson/index.html\n",
      "disaaved/\n",
      "disaaved/Nala Butt 3.jpg\n",
      "disaaved/data/\n",
      "disaaved/data/data.csv\n",
      "disaaved/index.html\n",
      "disaaved/index.html.html\n",
      "dlov/\n",
      "dlov/data/data.csv\n",
      "dlov/images/macy.jpg\n",
      "dlov/index.html\n",
      "dlov/macy.jpg\n",
      "dlov/sync/\n",
      "ebohnenb/\n",
      "ebohnenb/data/data.csv\n",
      "ebohnenb/index.html\n",
      "ebohnenb/turkeys.jpg\n",
      "error.html\n",
      "jtmetz/\n",
      "jtmetz/castle.JPG\n",
      "jtmetz/data/data.csv\n",
      "jtmetz/index.html\n",
      "jtmetz/index_redo.html\n",
      "jtmetz/index_redo.txt\n",
      "kcolvin/\n",
      "kcolvin/data/\n",
      "kcolvin/data/clean_data.csv\n",
      "kcolvin/data/data.csv\n",
      "kcolvin/images/\n",
      "kcolvin/images/macy.jpg\n",
      "kcolvin/index.html\n",
      "kcolvin/newfolder/macy.jpg\n",
      "kcorders/\n",
      "kcorders/Headshot.jpg\n",
      "kcorders/data/clean_data.csv\n",
      "kcorders/data/data.csv\n",
      "kcorders/index.html\n",
      "kcorders/newfolder/macy.jpg\n",
      "mgeverce/\n",
      "mgeverce/data/data.csv\n",
      "mgeverce/template (1).txt\n",
      "mkost/\n",
      "mkost/Screenshot (275).png\n",
      "mkost/data/\n",
      "mkost/data/clean_data.csv\n",
      "mkost/data/data.csv\n",
      "mkost/template_kost.html\n",
      "nhughe01/\n",
      "nhughe01/data/data.csv\n",
      "nhughe01/i-PbBDLhb-5K.jpg\n",
      "nhughe01/index.html\n",
      "nomeyer/\n",
      "nomeyer/data/data.csv\n",
      "nomeyer/index.html\n",
      "oalamu/\n",
      "oalamu/data/data.csv\n",
      "oalamu/index.html\n",
      "oalamu/index.txt\n",
      "pvavouli/\n",
      "pvavouli/data/data.csv\n",
      "rome/\n",
      "rome/index.html\n",
      "sberns01/\n",
      "sberns01/Data/\n",
      "sberns01/Data/Data.csv.csv\n",
      "sberns01/index.html\n",
      "sohl/\n",
      "sohl/data/data.csv\n",
      "stragess/\n",
      "stragess/data/data.csv\n",
      "stragess/index.html\n",
      "temp/data.csv\n",
      "template/\n",
      "template/macy.jpg\n",
      "template/template.html\n",
      "tmiric/\n",
      "tmiric/Kurt Colvin class notes.docx\n",
      "tmiric/Tiadora.html\n",
      "tmiric/TiadoraPhoto.jpg\n",
      "tmiric/data/\n",
      "tmiric/data/GEPData.csv\n",
      "tmiric/index.html\n",
      "zkrieger/\n",
      "zkrieger/data/data.csv\n",
      "zkrieger/index.html\n",
      "zkrieger/psychmeme.JPG\n"
     ]
    }
   ],
   "source": [
    "# From AWS S3, here is the 'list_objects' function:\n",
    "#\n",
    "# Let's select a bucket and list the contents of that bucket\n",
    "bucket = 'gse580'\n",
    "#\n",
    "# Call the 'list_objects' function\n",
    "response = s3c.list_objects(Bucket=bucket)\n",
    "#\n",
    "# Just get the 'Contents' from the response\n",
    "all_objects = response['Contents']\n",
    "#\n",
    "# Print out the names of the files\n",
    "for obj in all_objects:\n",
    "    print(obj['Key'])"
   ]
  },
  {
   "cell_type": "code",
   "execution_count": 15,
   "metadata": {},
   "outputs": [
    {
     "name": "stdout",
     "output_type": "stream",
     "text": [
      "kcolvin/\n",
      "kcolvin/data/\n",
      "kcolvin/data/clean_data.csv\n",
      "kcolvin/data/data.csv\n",
      "kcolvin/images/\n",
      "kcolvin/images/macy.jpg\n",
      "kcolvin/index.html\n",
      "kcolvin/newfolder/macy.jpg\n",
      "\n",
      "Does kcolvin/data/data.csv exist?\n",
      "\n",
      "\t kcolvin/data/data.csv\n"
     ]
    }
   ],
   "source": [
    "# Look for a specific pattern in the keys\n",
    "for obj in all_objects:\n",
    "    if 'kcolvin' in obj['Key']:\n",
    "        print(obj['Key'])\n",
    "#\n",
    "# Look for a specific key\n",
    "print('\\nDoes kcolvin/data/data.csv exist?\\n')\n",
    "for obj in all_objects:\n",
    "    if 'kcolvin/data/data.csv' in obj['Key']:\n",
    "        print('\\t',obj['Key'])"
   ]
  },
  {
   "cell_type": "code",
   "execution_count": 16,
   "metadata": {},
   "outputs": [
    {
     "name": "stdout",
     "output_type": "stream",
     "text": [
      "Full credit for:\n",
      "\n",
      "ayagar/data/data.csv\n",
      "bbschnei/data/data.csv\n",
      "benba/data/data.csv\n",
      "bzwarg/data/data.csv\n",
      "cehayden/data/data.csv\n",
      "chartman/data/data.csv\n",
      "clopez/data/data.csv\n",
      "cnilsson/data/data.csv\n",
      "disaaved/data/data.csv\n",
      "dlov/data/data.csv\n",
      "ebohnenb/data/data.csv\n",
      "jtmetz/data/data.csv\n",
      "kcolvin/data/data.csv\n",
      "kcorders/data/data.csv\n",
      "mgeverce/data/data.csv\n",
      "mkost/data/data.csv\n",
      "nhughe01/data/data.csv\n",
      "nomeyer/data/data.csv\n",
      "oalamu/data/data.csv\n",
      "pvavouli/data/data.csv\n",
      "sohl/data/data.csv\n",
      "stragess/data/data.csv\n",
      "zkrieger/data/data.csv\n"
     ]
    }
   ],
   "source": [
    "# Just for fun, let's grade last weeks assignment:\n",
    "#\n",
    "# Print the objects that match the pattern: '/data/data.csv'\n",
    "print('Full credit for:\\n')\n",
    "for obj in all_objects:\n",
    "    if 'data/data.csv' in obj['Key']:\n",
    "        print(obj['Key'])"
   ]
  },
  {
   "cell_type": "markdown",
   "metadata": {},
   "source": [
    "#### Download, Upload and Delete objects"
   ]
  },
  {
   "cell_type": "code",
   "execution_count": 17,
   "metadata": {},
   "outputs": [
    {
     "name": "stdout",
     "output_type": "stream",
     "text": [
      "Response value was 204, successful delete_object()\n"
     ]
    }
   ],
   "source": [
    "# Download S3 object 'gse580-read-only/data/data.csv' into our local jupyter notebook folder\n",
    "s3c.download_file(Bucket = 'gse580-read-only', Key = 'data/data.csv', Filename = 'data.csv') # No response available\n",
    "#\n",
    "# Upload local_file to S3\n",
    "s3c.upload_file(Filename = 'data.csv', Bucket = 'gse580', Key = 'temp/data.csv') # No response\n",
    "#\n",
    "# Delete object\n",
    "response = s3c.delete_object(Bucket = 'gse580', Key= 'temp/data/csv')\n",
    "if response['ResponseMetadata']['HTTPStatusCode'] == 204:\n",
    "    print('Response value was 204, successful delete_object()')\n",
    "else:\n",
    "    print('Something went wrong')"
   ]
  },
  {
   "cell_type": "markdown",
   "metadata": {},
   "source": [
    "## Your assignment this week:"
   ]
  },
  {
   "cell_type": "markdown",
   "metadata": {},
   "source": [
    "### Let's work with S3 data WITHOUT downloading a file to our local computer.\n",
    "Here, we are going to work with S3 and pandas to create a DataFrame directly from S3."
   ]
  },
  {
   "cell_type": "code",
   "execution_count": 18,
   "metadata": {},
   "outputs": [
    {
     "name": "stdout",
     "output_type": "stream",
     "text": [
      "Successful S3 get_object response. Status - 200\n"
     ]
    },
    {
     "data": {
      "text/html": [
       "<div>\n",
       "<style scoped>\n",
       "    .dataframe tbody tr th:only-of-type {\n",
       "        vertical-align: middle;\n",
       "    }\n",
       "\n",
       "    .dataframe tbody tr th {\n",
       "        vertical-align: top;\n",
       "    }\n",
       "\n",
       "    .dataframe thead th {\n",
       "        text-align: right;\n",
       "    }\n",
       "</style>\n",
       "<table border=\"1\" class=\"dataframe\">\n",
       "  <thead>\n",
       "    <tr style=\"text-align: right;\">\n",
       "      <th></th>\n",
       "      <th>Country Name</th>\n",
       "      <th>Country Code</th>\n",
       "      <th>Indicator Name</th>\n",
       "      <th>Indicator Code</th>\n",
       "      <th>1960</th>\n",
       "      <th>1961</th>\n",
       "      <th>1962</th>\n",
       "      <th>1963</th>\n",
       "      <th>1964</th>\n",
       "      <th>1965</th>\n",
       "      <th>...</th>\n",
       "      <th>2011</th>\n",
       "      <th>2012</th>\n",
       "      <th>2013</th>\n",
       "      <th>2014</th>\n",
       "      <th>2015</th>\n",
       "      <th>2016</th>\n",
       "      <th>2017</th>\n",
       "      <th>2018</th>\n",
       "      <th>2019</th>\n",
       "      <th>2020</th>\n",
       "    </tr>\n",
       "  </thead>\n",
       "  <tbody>\n",
       "    <tr>\n",
       "      <th>0</th>\n",
       "      <td>Aruba</td>\n",
       "      <td>ABW</td>\n",
       "      <td>Population, total</td>\n",
       "      <td>SP.POP.TOTL</td>\n",
       "      <td>54208.0</td>\n",
       "      <td>55434.0</td>\n",
       "      <td>56234.0</td>\n",
       "      <td>56699.0</td>\n",
       "      <td>57029.0</td>\n",
       "      <td>57357.0</td>\n",
       "      <td>...</td>\n",
       "      <td>102050.0</td>\n",
       "      <td>102565.0</td>\n",
       "      <td>103165.0</td>\n",
       "      <td>103776.0</td>\n",
       "      <td>104339.0</td>\n",
       "      <td>104865.0</td>\n",
       "      <td>105361.0</td>\n",
       "      <td>105846.0</td>\n",
       "      <td>106310.0</td>\n",
       "      <td>106766.0</td>\n",
       "    </tr>\n",
       "    <tr>\n",
       "      <th>1</th>\n",
       "      <td>Africa Eastern and Southern</td>\n",
       "      <td>AFE</td>\n",
       "      <td>Population, total</td>\n",
       "      <td>SP.POP.TOTL</td>\n",
       "      <td>130836765.0</td>\n",
       "      <td>134159786.0</td>\n",
       "      <td>137614644.0</td>\n",
       "      <td>141202036.0</td>\n",
       "      <td>144920186.0</td>\n",
       "      <td>148769974.0</td>\n",
       "      <td>...</td>\n",
       "      <td>532760424.0</td>\n",
       "      <td>547482863.0</td>\n",
       "      <td>562601578.0</td>\n",
       "      <td>578075373.0</td>\n",
       "      <td>593871847.0</td>\n",
       "      <td>609978946.0</td>\n",
       "      <td>626392880.0</td>\n",
       "      <td>643090131.0</td>\n",
       "      <td>660046272.0</td>\n",
       "      <td>677243299.0</td>\n",
       "    </tr>\n",
       "    <tr>\n",
       "      <th>2</th>\n",
       "      <td>Afghanistan</td>\n",
       "      <td>AFG</td>\n",
       "      <td>Population, total</td>\n",
       "      <td>SP.POP.TOTL</td>\n",
       "      <td>8996967.0</td>\n",
       "      <td>9169406.0</td>\n",
       "      <td>9351442.0</td>\n",
       "      <td>9543200.0</td>\n",
       "      <td>9744772.0</td>\n",
       "      <td>9956318.0</td>\n",
       "      <td>...</td>\n",
       "      <td>30117411.0</td>\n",
       "      <td>31161378.0</td>\n",
       "      <td>32269592.0</td>\n",
       "      <td>33370804.0</td>\n",
       "      <td>34413603.0</td>\n",
       "      <td>35383028.0</td>\n",
       "      <td>36296111.0</td>\n",
       "      <td>37171922.0</td>\n",
       "      <td>38041757.0</td>\n",
       "      <td>38928341.0</td>\n",
       "    </tr>\n",
       "    <tr>\n",
       "      <th>3</th>\n",
       "      <td>Africa Western and Central</td>\n",
       "      <td>AFW</td>\n",
       "      <td>Population, total</td>\n",
       "      <td>SP.POP.TOTL</td>\n",
       "      <td>96396419.0</td>\n",
       "      <td>98407221.0</td>\n",
       "      <td>100506960.0</td>\n",
       "      <td>102691339.0</td>\n",
       "      <td>104953470.0</td>\n",
       "      <td>107289875.0</td>\n",
       "      <td>...</td>\n",
       "      <td>360285439.0</td>\n",
       "      <td>370243017.0</td>\n",
       "      <td>380437896.0</td>\n",
       "      <td>390882979.0</td>\n",
       "      <td>401586651.0</td>\n",
       "      <td>412551299.0</td>\n",
       "      <td>423769930.0</td>\n",
       "      <td>435229381.0</td>\n",
       "      <td>446911598.0</td>\n",
       "      <td>458803476.0</td>\n",
       "    </tr>\n",
       "    <tr>\n",
       "      <th>4</th>\n",
       "      <td>Angola</td>\n",
       "      <td>AGO</td>\n",
       "      <td>Population, total</td>\n",
       "      <td>SP.POP.TOTL</td>\n",
       "      <td>5454938.0</td>\n",
       "      <td>5531451.0</td>\n",
       "      <td>5608499.0</td>\n",
       "      <td>5679409.0</td>\n",
       "      <td>5734995.0</td>\n",
       "      <td>5770573.0</td>\n",
       "      <td>...</td>\n",
       "      <td>24220660.0</td>\n",
       "      <td>25107925.0</td>\n",
       "      <td>26015786.0</td>\n",
       "      <td>26941773.0</td>\n",
       "      <td>27884380.0</td>\n",
       "      <td>28842482.0</td>\n",
       "      <td>29816769.0</td>\n",
       "      <td>30809787.0</td>\n",
       "      <td>31825299.0</td>\n",
       "      <td>32866268.0</td>\n",
       "    </tr>\n",
       "  </tbody>\n",
       "</table>\n",
       "<p>5 rows × 65 columns</p>\n",
       "</div>"
      ],
      "text/plain": [
       "                  Country Name Country Code     Indicator Name Indicator Code  \\\n",
       "0                        Aruba          ABW  Population, total    SP.POP.TOTL   \n",
       "1  Africa Eastern and Southern          AFE  Population, total    SP.POP.TOTL   \n",
       "2                  Afghanistan          AFG  Population, total    SP.POP.TOTL   \n",
       "3   Africa Western and Central          AFW  Population, total    SP.POP.TOTL   \n",
       "4                       Angola          AGO  Population, total    SP.POP.TOTL   \n",
       "\n",
       "          1960         1961         1962         1963         1964  \\\n",
       "0      54208.0      55434.0      56234.0      56699.0      57029.0   \n",
       "1  130836765.0  134159786.0  137614644.0  141202036.0  144920186.0   \n",
       "2    8996967.0    9169406.0    9351442.0    9543200.0    9744772.0   \n",
       "3   96396419.0   98407221.0  100506960.0  102691339.0  104953470.0   \n",
       "4    5454938.0    5531451.0    5608499.0    5679409.0    5734995.0   \n",
       "\n",
       "          1965  ...         2011         2012         2013         2014  \\\n",
       "0      57357.0  ...     102050.0     102565.0     103165.0     103776.0   \n",
       "1  148769974.0  ...  532760424.0  547482863.0  562601578.0  578075373.0   \n",
       "2    9956318.0  ...   30117411.0   31161378.0   32269592.0   33370804.0   \n",
       "3  107289875.0  ...  360285439.0  370243017.0  380437896.0  390882979.0   \n",
       "4    5770573.0  ...   24220660.0   25107925.0   26015786.0   26941773.0   \n",
       "\n",
       "          2015         2016         2017         2018         2019  \\\n",
       "0     104339.0     104865.0     105361.0     105846.0     106310.0   \n",
       "1  593871847.0  609978946.0  626392880.0  643090131.0  660046272.0   \n",
       "2   34413603.0   35383028.0   36296111.0   37171922.0   38041757.0   \n",
       "3  401586651.0  412551299.0  423769930.0  435229381.0  446911598.0   \n",
       "4   27884380.0   28842482.0   29816769.0   30809787.0   31825299.0   \n",
       "\n",
       "          2020  \n",
       "0     106766.0  \n",
       "1  677243299.0  \n",
       "2   38928341.0  \n",
       "3  458803476.0  \n",
       "4   32866268.0  \n",
       "\n",
       "[5 rows x 65 columns]"
      ]
     },
     "execution_count": 18,
     "metadata": {},
     "output_type": "execute_result"
    }
   ],
   "source": [
    "# Load a .csv file from S3 straight into a pandas df\n",
    "bucket = 'gse580-read-only'\n",
    "key = 'data/data.csv'\n",
    "#\n",
    "# Call the 'get_object' function from boto3. This is a little different than the download_file() from above. \n",
    "response = s3c.get_object(Bucket=bucket, Key=key)\n",
    "#\n",
    "# Get the HTTPStatusCode from the response\n",
    "status = response.get(\"ResponseMetadata\", {}).get(\"HTTPStatusCode\")\n",
    "\n",
    "if status == 200:\n",
    "    # If all OK, then create the DataFrame\n",
    "    print(f\"Successful S3 get_object response. Status - {status}\")\n",
    "    df = pd.read_csv(response.get('Body'))\n",
    "else:\n",
    "    # See what the response is and troubleshoot\n",
    "    print(f\"Unsuccessful S3 get_object response. Status - {status}\")\n",
    "#\n",
    "# Assuming it worked, show the df.head()\n",
    "df.head()"
   ]
  },
  {
   "cell_type": "markdown",
   "metadata": {},
   "source": [
    "### Simulated analysis of data\n",
    "In reality, let's just clean it up a bit"
   ]
  },
  {
   "cell_type": "code",
   "execution_count": 19,
   "metadata": {},
   "outputs": [
    {
     "data": {
      "text/html": [
       "<div>\n",
       "<style scoped>\n",
       "    .dataframe tbody tr th:only-of-type {\n",
       "        vertical-align: middle;\n",
       "    }\n",
       "\n",
       "    .dataframe tbody tr th {\n",
       "        vertical-align: top;\n",
       "    }\n",
       "\n",
       "    .dataframe thead th {\n",
       "        text-align: right;\n",
       "    }\n",
       "</style>\n",
       "<table border=\"1\" class=\"dataframe\">\n",
       "  <thead>\n",
       "    <tr style=\"text-align: right;\">\n",
       "      <th></th>\n",
       "      <th>1960</th>\n",
       "      <th>1961</th>\n",
       "      <th>1962</th>\n",
       "      <th>1963</th>\n",
       "      <th>1964</th>\n",
       "      <th>1965</th>\n",
       "      <th>1966</th>\n",
       "      <th>1967</th>\n",
       "      <th>1968</th>\n",
       "      <th>1969</th>\n",
       "      <th>...</th>\n",
       "      <th>2011</th>\n",
       "      <th>2012</th>\n",
       "      <th>2013</th>\n",
       "      <th>2014</th>\n",
       "      <th>2015</th>\n",
       "      <th>2016</th>\n",
       "      <th>2017</th>\n",
       "      <th>2018</th>\n",
       "      <th>2019</th>\n",
       "      <th>2020</th>\n",
       "    </tr>\n",
       "    <tr>\n",
       "      <th>Country Name</th>\n",
       "      <th></th>\n",
       "      <th></th>\n",
       "      <th></th>\n",
       "      <th></th>\n",
       "      <th></th>\n",
       "      <th></th>\n",
       "      <th></th>\n",
       "      <th></th>\n",
       "      <th></th>\n",
       "      <th></th>\n",
       "      <th></th>\n",
       "      <th></th>\n",
       "      <th></th>\n",
       "      <th></th>\n",
       "      <th></th>\n",
       "      <th></th>\n",
       "      <th></th>\n",
       "      <th></th>\n",
       "      <th></th>\n",
       "      <th></th>\n",
       "      <th></th>\n",
       "    </tr>\n",
       "  </thead>\n",
       "  <tbody>\n",
       "    <tr>\n",
       "      <th>Aruba</th>\n",
       "      <td>54208.0</td>\n",
       "      <td>55434.0</td>\n",
       "      <td>56234.0</td>\n",
       "      <td>56699.0</td>\n",
       "      <td>57029.0</td>\n",
       "      <td>57357.0</td>\n",
       "      <td>57702.0</td>\n",
       "      <td>58044.0</td>\n",
       "      <td>58377.0</td>\n",
       "      <td>58734.0</td>\n",
       "      <td>...</td>\n",
       "      <td>102050.0</td>\n",
       "      <td>102565.0</td>\n",
       "      <td>103165.0</td>\n",
       "      <td>103776.0</td>\n",
       "      <td>104339.0</td>\n",
       "      <td>104865.0</td>\n",
       "      <td>105361.0</td>\n",
       "      <td>105846.0</td>\n",
       "      <td>106310.0</td>\n",
       "      <td>106766.0</td>\n",
       "    </tr>\n",
       "    <tr>\n",
       "      <th>Africa Eastern and Southern</th>\n",
       "      <td>130836765.0</td>\n",
       "      <td>134159786.0</td>\n",
       "      <td>137614644.0</td>\n",
       "      <td>141202036.0</td>\n",
       "      <td>144920186.0</td>\n",
       "      <td>148769974.0</td>\n",
       "      <td>152752671.0</td>\n",
       "      <td>156876454.0</td>\n",
       "      <td>161156430.0</td>\n",
       "      <td>165611760.0</td>\n",
       "      <td>...</td>\n",
       "      <td>532760424.0</td>\n",
       "      <td>547482863.0</td>\n",
       "      <td>562601578.0</td>\n",
       "      <td>578075373.0</td>\n",
       "      <td>593871847.0</td>\n",
       "      <td>609978946.0</td>\n",
       "      <td>626392880.0</td>\n",
       "      <td>643090131.0</td>\n",
       "      <td>660046272.0</td>\n",
       "      <td>677243299.0</td>\n",
       "    </tr>\n",
       "    <tr>\n",
       "      <th>Afghanistan</th>\n",
       "      <td>8996967.0</td>\n",
       "      <td>9169406.0</td>\n",
       "      <td>9351442.0</td>\n",
       "      <td>9543200.0</td>\n",
       "      <td>9744772.0</td>\n",
       "      <td>9956318.0</td>\n",
       "      <td>10174840.0</td>\n",
       "      <td>10399936.0</td>\n",
       "      <td>10637064.0</td>\n",
       "      <td>10893772.0</td>\n",
       "      <td>...</td>\n",
       "      <td>30117411.0</td>\n",
       "      <td>31161378.0</td>\n",
       "      <td>32269592.0</td>\n",
       "      <td>33370804.0</td>\n",
       "      <td>34413603.0</td>\n",
       "      <td>35383028.0</td>\n",
       "      <td>36296111.0</td>\n",
       "      <td>37171922.0</td>\n",
       "      <td>38041757.0</td>\n",
       "      <td>38928341.0</td>\n",
       "    </tr>\n",
       "    <tr>\n",
       "      <th>Africa Western and Central</th>\n",
       "      <td>96396419.0</td>\n",
       "      <td>98407221.0</td>\n",
       "      <td>100506960.0</td>\n",
       "      <td>102691339.0</td>\n",
       "      <td>104953470.0</td>\n",
       "      <td>107289875.0</td>\n",
       "      <td>109701811.0</td>\n",
       "      <td>112195950.0</td>\n",
       "      <td>114781116.0</td>\n",
       "      <td>117468741.0</td>\n",
       "      <td>...</td>\n",
       "      <td>360285439.0</td>\n",
       "      <td>370243017.0</td>\n",
       "      <td>380437896.0</td>\n",
       "      <td>390882979.0</td>\n",
       "      <td>401586651.0</td>\n",
       "      <td>412551299.0</td>\n",
       "      <td>423769930.0</td>\n",
       "      <td>435229381.0</td>\n",
       "      <td>446911598.0</td>\n",
       "      <td>458803476.0</td>\n",
       "    </tr>\n",
       "    <tr>\n",
       "      <th>Angola</th>\n",
       "      <td>5454938.0</td>\n",
       "      <td>5531451.0</td>\n",
       "      <td>5608499.0</td>\n",
       "      <td>5679409.0</td>\n",
       "      <td>5734995.0</td>\n",
       "      <td>5770573.0</td>\n",
       "      <td>5781305.0</td>\n",
       "      <td>5774440.0</td>\n",
       "      <td>5771973.0</td>\n",
       "      <td>5803677.0</td>\n",
       "      <td>...</td>\n",
       "      <td>24220660.0</td>\n",
       "      <td>25107925.0</td>\n",
       "      <td>26015786.0</td>\n",
       "      <td>26941773.0</td>\n",
       "      <td>27884380.0</td>\n",
       "      <td>28842482.0</td>\n",
       "      <td>29816769.0</td>\n",
       "      <td>30809787.0</td>\n",
       "      <td>31825299.0</td>\n",
       "      <td>32866268.0</td>\n",
       "    </tr>\n",
       "  </tbody>\n",
       "</table>\n",
       "<p>5 rows × 61 columns</p>\n",
       "</div>"
      ],
      "text/plain": [
       "                                    1960         1961         1962  \\\n",
       "Country Name                                                         \n",
       "Aruba                            54208.0      55434.0      56234.0   \n",
       "Africa Eastern and Southern  130836765.0  134159786.0  137614644.0   \n",
       "Afghanistan                    8996967.0    9169406.0    9351442.0   \n",
       "Africa Western and Central    96396419.0   98407221.0  100506960.0   \n",
       "Angola                         5454938.0    5531451.0    5608499.0   \n",
       "\n",
       "                                    1963         1964         1965  \\\n",
       "Country Name                                                         \n",
       "Aruba                            56699.0      57029.0      57357.0   \n",
       "Africa Eastern and Southern  141202036.0  144920186.0  148769974.0   \n",
       "Afghanistan                    9543200.0    9744772.0    9956318.0   \n",
       "Africa Western and Central   102691339.0  104953470.0  107289875.0   \n",
       "Angola                         5679409.0    5734995.0    5770573.0   \n",
       "\n",
       "                                    1966         1967         1968  \\\n",
       "Country Name                                                         \n",
       "Aruba                            57702.0      58044.0      58377.0   \n",
       "Africa Eastern and Southern  152752671.0  156876454.0  161156430.0   \n",
       "Afghanistan                   10174840.0   10399936.0   10637064.0   \n",
       "Africa Western and Central   109701811.0  112195950.0  114781116.0   \n",
       "Angola                         5781305.0    5774440.0    5771973.0   \n",
       "\n",
       "                                    1969  ...         2011         2012  \\\n",
       "Country Name                              ...                             \n",
       "Aruba                            58734.0  ...     102050.0     102565.0   \n",
       "Africa Eastern and Southern  165611760.0  ...  532760424.0  547482863.0   \n",
       "Afghanistan                   10893772.0  ...   30117411.0   31161378.0   \n",
       "Africa Western and Central   117468741.0  ...  360285439.0  370243017.0   \n",
       "Angola                         5803677.0  ...   24220660.0   25107925.0   \n",
       "\n",
       "                                    2013         2014         2015  \\\n",
       "Country Name                                                         \n",
       "Aruba                           103165.0     103776.0     104339.0   \n",
       "Africa Eastern and Southern  562601578.0  578075373.0  593871847.0   \n",
       "Afghanistan                   32269592.0   33370804.0   34413603.0   \n",
       "Africa Western and Central   380437896.0  390882979.0  401586651.0   \n",
       "Angola                        26015786.0   26941773.0   27884380.0   \n",
       "\n",
       "                                    2016         2017         2018  \\\n",
       "Country Name                                                         \n",
       "Aruba                           104865.0     105361.0     105846.0   \n",
       "Africa Eastern and Southern  609978946.0  626392880.0  643090131.0   \n",
       "Afghanistan                   35383028.0   36296111.0   37171922.0   \n",
       "Africa Western and Central   412551299.0  423769930.0  435229381.0   \n",
       "Angola                        28842482.0   29816769.0   30809787.0   \n",
       "\n",
       "                                    2019         2020  \n",
       "Country Name                                           \n",
       "Aruba                           106310.0     106766.0  \n",
       "Africa Eastern and Southern  660046272.0  677243299.0  \n",
       "Afghanistan                   38041757.0   38928341.0  \n",
       "Africa Western and Central   446911598.0  458803476.0  \n",
       "Angola                        31825299.0   32866268.0  \n",
       "\n",
       "[5 rows x 61 columns]"
      ]
     },
     "execution_count": 19,
     "metadata": {},
     "output_type": "execute_result"
    }
   ],
   "source": [
    "# Modify the dataframe:\n",
    "\n",
    "# Clean up the columns\n",
    "clean_df = df.drop(['Country Code','Indicator Name','Indicator Code'],axis=1)\n",
    "# Set the index to the 'Country Name' column\n",
    "clean_df.set_index('Country Name',inplace = True)\n",
    "# Have a look\n",
    "clean_df.head()"
   ]
  },
  {
   "cell_type": "code",
   "execution_count": 20,
   "metadata": {},
   "outputs": [
    {
     "name": "stdout",
     "output_type": "stream",
     "text": [
      "Successful S3 put_object response. Status - 200\n"
     ]
    }
   ],
   "source": [
    "# Now save the dataframe back to a new file in S3\n",
    "#\n",
    "bucket  = 'gse580'\n",
    "# Modify to your folder\n",
    "# **** YOU MUST MODIFY ****\n",
    "key = 'kcolvin/data/clean_data.csv'  # Name of new file on S3\n",
    "# **** YOU MUST MODIFY ****\n",
    "##\n",
    "# Code to use the put_object function to save clean_df as a .csv file in S3\n",
    "with io.StringIO() as csv_buffer:\n",
    "    # Use the pandas to_csv function\n",
    "    clean_df.to_csv(csv_buffer, index=True)\n",
    "    #\n",
    "    # Here is the put_object function\n",
    "    response = s3c.put_object(Bucket=bucket, Key=key, Body=csv_buffer.getvalue())\n",
    "    #\n",
    "    status = response.get(\"ResponseMetadata\", {}).get(\"HTTPStatusCode\")\n",
    "    #\n",
    "    if status == 200:\n",
    "        print(f\"Successful S3 put_object response. Status - {status}\")\n",
    "    else:\n",
    "        print(f\"Unsuccessful S3 put_object response. Status - {status}\")"
   ]
  },
  {
   "cell_type": "code",
   "execution_count": 21,
   "metadata": {},
   "outputs": [
    {
     "name": "stdout",
     "output_type": "stream",
     "text": [
      "This is your full key to your S3 file: kcolvin/data/clean_data.csv \n",
      "\n",
      "Do you have a file in location <your_username>/data/clean_data.csv?\n",
      "kcolvin/data/clean_data.csv\n"
     ]
    }
   ],
   "source": [
    "# Let's verify our new file is in your folder on S3 under the location: <your_username>/data/clean_data.csv\n",
    "bucket = 'gse580'\n",
    "#\n",
    "# **** YOU MUST MODIFY ****\n",
    "your_username = 'kcolvin/'\n",
    "# **** YOU MUST MODIFY ****\n",
    "#\n",
    "print('This is your full key to your S3 file:',your_username + 'data/clean_data.csv \\n')\n",
    "#\n",
    "# Call list_objects\n",
    "response = s3c.list_objects(Bucket=bucket)\n",
    "# Just get the objects\n",
    "all_objects = response['Contents']\n",
    "#\n",
    "# Your assignment is to save your clean_data.csv to your folder on S3 under 'data/clean_data.csv'\n",
    "# Verify it exists:\n",
    "for obj in all_objects:\n",
    "    # Build a string to match <your_username>/data/clean_data.csv\n",
    "    if your_username + 'data/clean_data.csv' in obj['Key']:\n",
    "        print('Do you have a file in location <your_username>/data/clean_data.csv?')\n",
    "        print(obj['Key'])"
   ]
  },
  {
   "cell_type": "markdown",
   "metadata": {},
   "source": [
    "#### Not part of the assignment, but might be useful in the future."
   ]
  },
  {
   "cell_type": "code",
   "execution_count": 22,
   "metadata": {},
   "outputs": [
    {
     "name": "stdout",
     "output_type": "stream",
     "text": [
      "kcolvin\n"
     ]
    }
   ],
   "source": [
    "# Extra bit of code for fun:\n",
    "# Create Secure Token Service (STS) client. This is another part of the boto3 module.\n",
    "sts = session.client('sts')\n",
    "# Call the get_caller_identity() function\n",
    "response = sts.get_caller_identity()\n",
    "# From the response, find your username\n",
    "my_username = response['Arn'].split('/')[1]\n",
    "print(my_username)"
   ]
  },
  {
   "cell_type": "code",
   "execution_count": null,
   "metadata": {},
   "outputs": [],
   "source": []
  }
 ],
 "metadata": {
  "kernelspec": {
   "display_name": "Python 3 (ipykernel)",
   "language": "python",
   "name": "python3"
  },
  "language_info": {
   "codemirror_mode": {
    "name": "ipython",
    "version": 3
   },
   "file_extension": ".py",
   "mimetype": "text/x-python",
   "name": "python",
   "nbconvert_exporter": "python",
   "pygments_lexer": "ipython3",
   "version": "3.7.1"
  }
 },
 "nbformat": 4,
 "nbformat_minor": 4
}
