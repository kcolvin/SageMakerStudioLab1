{
 "cells": [
  {
   "cell_type": "markdown",
   "metadata": {},
   "source": [
    "# Using the World Bank APIs & the Feather Format\n",
    "Adapted from: https://medium.com/mlearning-ai/6-data-engineering-extract-data-using-apis-1870a1adbd3b"
   ]
  },
  {
   "cell_type": "markdown",
   "metadata": {},
   "source": [
    "### APIs\n",
    "\n",
    "Instead of downloading World Bank data via a csv file, you're going to download the data using the World Bank APIs. The purpose of this exercise is to gain experience with another way of extracting data.\n",
    "\n",
    "API is an acronym that stands for <B>application programming interface.</B> API’s provide a standardized way for two applications to talk to each other. In this case, the applications communicating with each other are the server application where World Bank stores data and your Jupyter notebook.\n",
    "\n",
    "If you wanted to pull data directly from the World Bank’s server, you’d have to know what database system the World Bank was using. You’d also need permission to log in directly to the server, which would be a security risk for the World Bank. And if the World Bank ever migrated its data to a new system, you would have to rewrite all of your code again. The API allows you to execute code on the World Bank server without getting direct access.\n",
    "\n",
    "### Before there were APIs\n",
    "\n",
    "Before there were APIs, there was web scraping. People would download html directly from a website and then parse the results programatically. This practice is in a legal grey area. One reason that APIs became popular was so that companies could provide data to users and discourage web scraping.\n",
    "\n",
    "Here are a few articles about the legality of web scraping.\n",
    "\n",
    "All sorts of companies have public facing APIs including Facebook, Twitter, Google and Pinterest. You can pull data from these companies to create your own applications.\n",
    "\n",
    "In this notebook, you’ll get practice using Python to pull data from the World Bank indicators API.\n",
    "\n",
    "Here are links to information about the World Bank indicators and projects APIs if you want to learn more:\n",
    "* [World Bank Indicators API](https://datahelpdesk.worldbank.org/knowledgebase/articles/889392-about-the-indicators-api-documentation)\n",
    "* [World Bank Projects API](http://search.worldbank.org/api/v2/projects)"
   ]
  },
  {
   "cell_type": "markdown",
   "metadata": {},
   "source": [
    "### Using APIs\n",
    "\n",
    "In general, you access APIs via the web using a web address. Within the web address, you specify the data that you want. To know how to format the web address, you need to read an API's documentation. Some APIs also require that you send login credentials as part of your request. The World Bank APIs are public and do not require login credentials.\n",
    "\n",
    "The Python requests library makes working with APIs relatively simple."
   ]
  },
  {
   "cell_type": "markdown",
   "metadata": {},
   "source": [
    "### Indicators by Country API\n",
    "\n",
    "Run the code example below to request data from the World Bank Indicators API. According to the documentation, you format your request url like so:\n",
    "\n",
    "`http://api.worldbank.org/v2/countries/` + list of country abbreviations separated by ; + `/indicators/` + indicator name + `?` + options\n",
    "\n",
    "where options can include\n",
    "* per_page - number of records to return per page\n",
    "* page - which page to return - eg if there are 5000 records and 100 records per page\n",
    "* date - filter by dates\n",
    "* format - json or xml\n",
    " \n",
    " and a few other options that you can read about [here](https://datahelpdesk.worldbank.org/knowledgebase/articles/898581-api-basic-call-structure)."
   ]
  },
  {
   "cell_type": "code",
   "execution_count": 1,
   "metadata": {},
   "outputs": [],
   "source": [
    "# You'll have to install the libraries we'll use.\n",
    "# Once you run this once, you can comment out the line. \n",
    "%conda install requests pandas feather-format boto3\n",
    "\n",
    "# Now import the libraries\n",
    "import requests # the library we'll use to call the API\n",
    "import pandas as pd # good ole pandas\n",
    "import json # Used to deal with the json objects that return from the API\n",
    "import boto3 # You know this one!\n",
    "import io  # Used for some input/output functions below"
   ]
  },
  {
   "cell_type": "code",
   "execution_count": 2,
   "metadata": {},
   "outputs": [
    {
     "name": "stdout",
     "output_type": "stream",
     "text": [
      "Metadata: \n",
      " {\n",
      " \"page\": 1,\n",
      " \"pages\": 82,\n",
      " \"per_page\": 3,\n",
      " \"total\": 244,\n",
      " \"sourceid\": \"2\",\n",
      " \"sourcename\": \"World Development Indicators\",\n",
      " \"lastupdated\": \"2021-12-16\"\n",
      "}\n",
      "\n",
      "Here is the data:\n",
      "[\n",
      " {\n",
      "  \"indicator\": {\n",
      "   \"id\": \"SP.POP.TOTL\",\n",
      "   \"value\": \"Population, total\"\n",
      "  },\n",
      "  \"country\": {\n",
      "   \"id\": \"BR\",\n",
      "   \"value\": \"Brazil\"\n",
      "  },\n",
      "  \"countryiso3code\": \"BRA\",\n",
      "  \"date\": \"2020\",\n",
      "  \"value\": 212559409,\n",
      "  \"unit\": \"\",\n",
      "  \"obs_status\": \"\",\n",
      "  \"decimal\": 0\n",
      " },\n",
      " {\n",
      "  \"indicator\": {\n",
      "   \"id\": \"SP.POP.TOTL\",\n",
      "   \"value\": \"Population, total\"\n",
      "  },\n",
      "  \"country\": {\n",
      "   \"id\": \"BR\",\n",
      "   \"value\": \"Brazil\"\n",
      "  },\n",
      "  \"countryiso3code\": \"BRA\",\n",
      "  \"date\": \"2019\",\n",
      "  \"value\": 211049519,\n",
      "  \"unit\": \"\",\n",
      "  \"obs_status\": \"\",\n",
      "  \"decimal\": 0\n",
      " },\n",
      " {\n",
      "  \"indicator\": {\n",
      "   \"id\": \"SP.POP.TOTL\",\n",
      "   \"value\": \"Population, total\"\n",
      "  },\n",
      "  \"country\": {\n",
      "   \"id\": \"BR\",\n",
      "   \"value\": \"Brazil\"\n",
      "  },\n",
      "  \"countryiso3code\": \"BRA\",\n",
      "  \"date\": \"2018\",\n",
      "  \"value\": 209469320,\n",
      "  \"unit\": \"\",\n",
      "  \"obs_status\": \"\",\n",
      "  \"decimal\": 0\n",
      " }\n",
      "]\n"
     ]
    }
   ],
   "source": [
    "# Build a sample url. Notice it is a string formatted in a very specific way:\n",
    "# While there are 244 rows of data, I'm just asking for 3 rows (per_page=3)\n",
    "url = 'http://api.worldbank.org/v2/countries/br;cn;us;de/indicators/SP.POP.TOTL/?format=json&per_page=3'\n",
    "\n",
    "# Call the url using the requests.get() function\n",
    "r = requests.get(url)\n",
    "\n",
    "# When you look at the whole response, it is a list of 2 lists:\n",
    "#   First list is some metadata about the data\n",
    "#   Second list is a list of dicts, each dict containing the rows of data\n",
    "#\n",
    "# Look at the first list (index[0]), which is the metadata:\n",
    "print('Metadata: \\n', json.dumps(r.json()[0], indent=1, sort_keys=False))\n",
    "#\n",
    "# Now look at the data (index[1])\n",
    "print('\\nHere is the data:')\n",
    "print(json.dumps(r.json()[1], indent=1, sort_keys=False))  # Only 3 rows of data"
   ]
  },
  {
   "cell_type": "markdown",
   "metadata": {
    "tags": []
   },
   "source": [
    "#### So what indicators are avaialbe? \n",
    "Go to this search box and search for: SP.POP.TOTL\n",
    "* [Website for all World Bank indicators](https://data.worldbank.org)\n",
    "<br>\n",
    "<p>\n",
    "To find the indicator code, first search for the indicator here: https://data.worldbank.org\n",
    "Click on the indicator name. The indicator code is in the url. For example, the indicator code for total population is SP.POP.TOTL, which you can see in the link:<p>\n",
    "https://data.worldbank.org/indicator/SP.RUR.TOTL     "
   ]
  },
  {
   "cell_type": "markdown",
   "metadata": {},
   "source": [
    "#### Load all rows into a pandas DataFrame"
   ]
  },
  {
   "cell_type": "code",
   "execution_count": 3,
   "metadata": {},
   "outputs": [
    {
     "name": "stdout",
     "output_type": "stream",
     "text": [
      "http://api.worldbank.org/v2/countries/br;cn;us;de/indicators/SP.POP.TOTL/?format=json&per_page=500\n"
     ]
    },
    {
     "data": {
      "text/html": [
       "<div>\n",
       "<style scoped>\n",
       "    .dataframe tbody tr th:only-of-type {\n",
       "        vertical-align: middle;\n",
       "    }\n",
       "\n",
       "    .dataframe tbody tr th {\n",
       "        vertical-align: top;\n",
       "    }\n",
       "\n",
       "    .dataframe thead th {\n",
       "        text-align: right;\n",
       "    }\n",
       "</style>\n",
       "<table border=\"1\" class=\"dataframe\">\n",
       "  <thead>\n",
       "    <tr style=\"text-align: right;\">\n",
       "      <th></th>\n",
       "      <th>indicator</th>\n",
       "      <th>country</th>\n",
       "      <th>countryiso3code</th>\n",
       "      <th>date</th>\n",
       "      <th>value</th>\n",
       "      <th>unit</th>\n",
       "      <th>obs_status</th>\n",
       "      <th>decimal</th>\n",
       "    </tr>\n",
       "  </thead>\n",
       "  <tbody>\n",
       "    <tr>\n",
       "      <th>0</th>\n",
       "      <td>{'id': 'SP.POP.TOTL', 'value': 'Population, to...</td>\n",
       "      <td>{'id': 'BR', 'value': 'Brazil'}</td>\n",
       "      <td>BRA</td>\n",
       "      <td>2020</td>\n",
       "      <td>212559409</td>\n",
       "      <td></td>\n",
       "      <td></td>\n",
       "      <td>0</td>\n",
       "    </tr>\n",
       "    <tr>\n",
       "      <th>1</th>\n",
       "      <td>{'id': 'SP.POP.TOTL', 'value': 'Population, to...</td>\n",
       "      <td>{'id': 'BR', 'value': 'Brazil'}</td>\n",
       "      <td>BRA</td>\n",
       "      <td>2019</td>\n",
       "      <td>211049519</td>\n",
       "      <td></td>\n",
       "      <td></td>\n",
       "      <td>0</td>\n",
       "    </tr>\n",
       "    <tr>\n",
       "      <th>2</th>\n",
       "      <td>{'id': 'SP.POP.TOTL', 'value': 'Population, to...</td>\n",
       "      <td>{'id': 'BR', 'value': 'Brazil'}</td>\n",
       "      <td>BRA</td>\n",
       "      <td>2018</td>\n",
       "      <td>209469320</td>\n",
       "      <td></td>\n",
       "      <td></td>\n",
       "      <td>0</td>\n",
       "    </tr>\n",
       "    <tr>\n",
       "      <th>3</th>\n",
       "      <td>{'id': 'SP.POP.TOTL', 'value': 'Population, to...</td>\n",
       "      <td>{'id': 'BR', 'value': 'Brazil'}</td>\n",
       "      <td>BRA</td>\n",
       "      <td>2017</td>\n",
       "      <td>207833825</td>\n",
       "      <td></td>\n",
       "      <td></td>\n",
       "      <td>0</td>\n",
       "    </tr>\n",
       "  </tbody>\n",
       "</table>\n",
       "</div>"
      ],
      "text/plain": [
       "                                           indicator  \\\n",
       "0  {'id': 'SP.POP.TOTL', 'value': 'Population, to...   \n",
       "1  {'id': 'SP.POP.TOTL', 'value': 'Population, to...   \n",
       "2  {'id': 'SP.POP.TOTL', 'value': 'Population, to...   \n",
       "3  {'id': 'SP.POP.TOTL', 'value': 'Population, to...   \n",
       "\n",
       "                           country countryiso3code  date      value unit  \\\n",
       "0  {'id': 'BR', 'value': 'Brazil'}             BRA  2020  212559409        \n",
       "1  {'id': 'BR', 'value': 'Brazil'}             BRA  2019  211049519        \n",
       "2  {'id': 'BR', 'value': 'Brazil'}             BRA  2018  209469320        \n",
       "3  {'id': 'BR', 'value': 'Brazil'}             BRA  2017  207833825        \n",
       "\n",
       "  obs_status  decimal  \n",
       "0                   0  \n",
       "1                   0  \n",
       "2                   0  \n",
       "3                   0  "
      ]
     },
     "execution_count": 3,
     "metadata": {},
     "output_type": "execute_result"
    }
   ],
   "source": [
    "# Let's build the same url by components:\n",
    "\n",
    "base_url = 'http://api.worldbank.org/v2/countries/'\n",
    "ctry = 'br;cn;us;de/'\n",
    "ind = 'SP.POP.TOTL/?'\n",
    "form = 'format=json'\n",
    "# We know there are 244 rows, so let's get all of them in 1 page\n",
    "num  = '&per_page=500'\n",
    "\n",
    "# Build the final string\n",
    "url = base_url + ctry + 'indicators/' + ind + form + num\n",
    "print(url)\n",
    "\n",
    "# Call the API again\n",
    "r = requests.get(url)\n",
    "\n",
    "# Now simply load the data into a dataframe\n",
    "df = pd.DataFrame(r.json()[1])\n",
    "df.head(4)"
   ]
  },
  {
   "cell_type": "markdown",
   "metadata": {},
   "source": [
    "#### Country code list:\n",
    "* [2-character iso country codes](https://www.nationsonline.org/oneworld/country_code_list.htm)"
   ]
  },
  {
   "cell_type": "markdown",
   "metadata": {},
   "source": [
    "### Get Indicator data for All Countries\n",
    "\n",
    "Before, we called an indicator for a country or a list of countries.  Here, we are going get all the data by an indicator.\n",
    "\n",
    "* [Website to search for indicator by name](https://data.worldbank.org/indicator?tab=all)"
   ]
  },
  {
   "cell_type": "code",
   "execution_count": 4,
   "metadata": {},
   "outputs": [
    {
     "name": "stdout",
     "output_type": "stream",
     "text": [
      "http://api.worldbank.org/v2/country/all/indicator/SP.DYN.LE00.IN/?format=json&per_page=3\n"
     ]
    },
    {
     "data": {
      "text/plain": [
       "16226"
      ]
     },
     "execution_count": 4,
     "metadata": {},
     "output_type": "execute_result"
    }
   ],
   "source": [
    "# Indicator: Life Expectancy at Birth: SP.DYN.LE00.IN\n",
    "# Let's build the url by components\n",
    "\n",
    "base_url = 'http://api.worldbank.org/v2/country/all/indicator/'\n",
    "ind = 'SP.DYN.LE00.IN/?'\n",
    "form = 'format=json'\n",
    "# We don't know the number of rows, let's get a few and see how many rows exist\n",
    "num  = '&per_page=3'\n",
    "\n",
    "# Build the final string\n",
    "url = base_url + ind + form + num\n",
    "print(url)\n",
    "\n",
    "# Call the API\n",
    "r = requests.get(url)\n",
    "\n",
    "# From the first list (metadata) identify the total number of rows\n",
    "total_rows = r.json()[0]['total']\n",
    "total_rows"
   ]
  },
  {
   "cell_type": "code",
   "execution_count": 5,
   "metadata": {},
   "outputs": [
    {
     "name": "stdout",
     "output_type": "stream",
     "text": [
      "http://api.worldbank.org/v2/country/all/indicator/SP.DYN.LE00.IN/?format=json&per_page=16226\n",
      "The number of rows in the new dataframe is: 16226\n"
     ]
    },
    {
     "data": {
      "text/html": [
       "<div>\n",
       "<style scoped>\n",
       "    .dataframe tbody tr th:only-of-type {\n",
       "        vertical-align: middle;\n",
       "    }\n",
       "\n",
       "    .dataframe tbody tr th {\n",
       "        vertical-align: top;\n",
       "    }\n",
       "\n",
       "    .dataframe thead th {\n",
       "        text-align: right;\n",
       "    }\n",
       "</style>\n",
       "<table border=\"1\" class=\"dataframe\">\n",
       "  <thead>\n",
       "    <tr style=\"text-align: right;\">\n",
       "      <th></th>\n",
       "      <th>indicator</th>\n",
       "      <th>country</th>\n",
       "      <th>countryiso3code</th>\n",
       "      <th>date</th>\n",
       "      <th>value</th>\n",
       "      <th>unit</th>\n",
       "      <th>obs_status</th>\n",
       "      <th>decimal</th>\n",
       "    </tr>\n",
       "  </thead>\n",
       "  <tbody>\n",
       "    <tr>\n",
       "      <th>0</th>\n",
       "      <td>{'id': 'SP.DYN.LE00.IN', 'value': 'Life expect...</td>\n",
       "      <td>{'id': 'ZH', 'value': 'Africa Eastern and Sout...</td>\n",
       "      <td>AFE</td>\n",
       "      <td>2020</td>\n",
       "      <td>NaN</td>\n",
       "      <td></td>\n",
       "      <td></td>\n",
       "      <td>0</td>\n",
       "    </tr>\n",
       "    <tr>\n",
       "      <th>1</th>\n",
       "      <td>{'id': 'SP.DYN.LE00.IN', 'value': 'Life expect...</td>\n",
       "      <td>{'id': 'ZH', 'value': 'Africa Eastern and Sout...</td>\n",
       "      <td>AFE</td>\n",
       "      <td>2019</td>\n",
       "      <td>64.005197</td>\n",
       "      <td></td>\n",
       "      <td></td>\n",
       "      <td>0</td>\n",
       "    </tr>\n",
       "  </tbody>\n",
       "</table>\n",
       "</div>"
      ],
      "text/plain": [
       "                                           indicator  \\\n",
       "0  {'id': 'SP.DYN.LE00.IN', 'value': 'Life expect...   \n",
       "1  {'id': 'SP.DYN.LE00.IN', 'value': 'Life expect...   \n",
       "\n",
       "                                             country countryiso3code  date  \\\n",
       "0  {'id': 'ZH', 'value': 'Africa Eastern and Sout...             AFE  2020   \n",
       "1  {'id': 'ZH', 'value': 'Africa Eastern and Sout...             AFE  2019   \n",
       "\n",
       "       value unit obs_status  decimal  \n",
       "0        NaN                        0  \n",
       "1  64.005197                        0  "
      ]
     },
     "execution_count": 5,
     "metadata": {},
     "output_type": "execute_result"
    }
   ],
   "source": [
    "# Update the query string\n",
    "num  = '&per_page=' + str(total_rows)  # It has to be a string\n",
    "\n",
    "# Build the final string\n",
    "url = base_url + ind + form + num\n",
    "print(url)\n",
    "\n",
    "# Call the API\n",
    "r = requests.get(url)\n",
    "\n",
    "# Load the data into a dataframe\n",
    "df2 = pd.DataFrame(r.json()[1])\n",
    "print('The number of rows in the new dataframe is:',len(df2))\n",
    "df2.head(2)"
   ]
  },
  {
   "cell_type": "markdown",
   "metadata": {},
   "source": [
    "## Saving to a Feather formatted file\n",
    "- The primary reason for the existence of Feather is to have a data format which data frames can be exchanged between Python and R.\n",
    "- Feather is a binary data format.\n",
    "- Using feather enables faster I/O speeds and less memory. However, since it is an evolving format it is recommended to use it for quick loading and transformation related data processing rather than using it as a long term storage.\n",
    "- The dataframe is persisted into a disk file in Feather format by calling the to_feather() method on the dataframe object.\n",
    "- The contents of the disk file is read back by calling the method read_feather() method of the pandas module and printed onto the console.\n",
    "\n",
    "<P>\n",
    "Code to write/read dataframes to Feather formatted file in the R language:<br>\n",
    "\n",
    "```\n",
    "library(feather)\n",
    "path <- \"df.feather\"\n",
    "write_feather(df, path)\n",
    "df <- read_feather(path)\n",
    "```\n",
    "\n"
   ]
  },
  {
   "cell_type": "code",
   "execution_count": 6,
   "metadata": {},
   "outputs": [],
   "source": [
    "# Save the df2 DataFrame to a Feather formatted file in the current directory in SageMaker.\n",
    "df2.to_feather('df2.feather')"
   ]
  },
  {
   "cell_type": "code",
   "execution_count": 7,
   "metadata": {},
   "outputs": [
    {
     "data": {
      "text/html": [
       "<div>\n",
       "<style scoped>\n",
       "    .dataframe tbody tr th:only-of-type {\n",
       "        vertical-align: middle;\n",
       "    }\n",
       "\n",
       "    .dataframe tbody tr th {\n",
       "        vertical-align: top;\n",
       "    }\n",
       "\n",
       "    .dataframe thead th {\n",
       "        text-align: right;\n",
       "    }\n",
       "</style>\n",
       "<table border=\"1\" class=\"dataframe\">\n",
       "  <thead>\n",
       "    <tr style=\"text-align: right;\">\n",
       "      <th></th>\n",
       "      <th>indicator</th>\n",
       "      <th>country</th>\n",
       "      <th>countryiso3code</th>\n",
       "      <th>date</th>\n",
       "      <th>value</th>\n",
       "      <th>unit</th>\n",
       "      <th>obs_status</th>\n",
       "      <th>decimal</th>\n",
       "    </tr>\n",
       "  </thead>\n",
       "  <tbody>\n",
       "    <tr>\n",
       "      <th>0</th>\n",
       "      <td>{'id': 'SP.DYN.LE00.IN', 'value': 'Life expect...</td>\n",
       "      <td>{'id': 'ZH', 'value': 'Africa Eastern and Sout...</td>\n",
       "      <td>AFE</td>\n",
       "      <td>2020</td>\n",
       "      <td>NaN</td>\n",
       "      <td></td>\n",
       "      <td></td>\n",
       "      <td>0</td>\n",
       "    </tr>\n",
       "    <tr>\n",
       "      <th>1</th>\n",
       "      <td>{'id': 'SP.DYN.LE00.IN', 'value': 'Life expect...</td>\n",
       "      <td>{'id': 'ZH', 'value': 'Africa Eastern and Sout...</td>\n",
       "      <td>AFE</td>\n",
       "      <td>2019</td>\n",
       "      <td>64.005197</td>\n",
       "      <td></td>\n",
       "      <td></td>\n",
       "      <td>0</td>\n",
       "    </tr>\n",
       "    <tr>\n",
       "      <th>2</th>\n",
       "      <td>{'id': 'SP.DYN.LE00.IN', 'value': 'Life expect...</td>\n",
       "      <td>{'id': 'ZH', 'value': 'Africa Eastern and Sout...</td>\n",
       "      <td>AFE</td>\n",
       "      <td>2018</td>\n",
       "      <td>63.648988</td>\n",
       "      <td></td>\n",
       "      <td></td>\n",
       "      <td>0</td>\n",
       "    </tr>\n",
       "  </tbody>\n",
       "</table>\n",
       "</div>"
      ],
      "text/plain": [
       "                                           indicator  \\\n",
       "0  {'id': 'SP.DYN.LE00.IN', 'value': 'Life expect...   \n",
       "1  {'id': 'SP.DYN.LE00.IN', 'value': 'Life expect...   \n",
       "2  {'id': 'SP.DYN.LE00.IN', 'value': 'Life expect...   \n",
       "\n",
       "                                             country countryiso3code  date  \\\n",
       "0  {'id': 'ZH', 'value': 'Africa Eastern and Sout...             AFE  2020   \n",
       "1  {'id': 'ZH', 'value': 'Africa Eastern and Sout...             AFE  2019   \n",
       "2  {'id': 'ZH', 'value': 'Africa Eastern and Sout...             AFE  2018   \n",
       "\n",
       "       value unit obs_status  decimal  \n",
       "0        NaN                        0  \n",
       "1  64.005197                        0  \n",
       "2  63.648988                        0  "
      ]
     },
     "execution_count": 7,
     "metadata": {},
     "output_type": "execute_result"
    }
   ],
   "source": [
    "# Read the Feather file into a new DataFrame. \n",
    "df3 = pd.read_feather('df2.feather')\n",
    "df3.head(3)"
   ]
  },
  {
   "cell_type": "code",
   "execution_count": 8,
   "metadata": {},
   "outputs": [
    {
     "name": "stdout",
     "output_type": "stream",
     "text": [
      "Same\n"
     ]
    }
   ],
   "source": [
    "# df2 & df3 should be the same. Make sure they are the same.\n",
    "if df2.equals(df3):\n",
    "    print('Same')\n",
    "else:\n",
    "    print('Some difference')"
   ]
  },
  {
   "cell_type": "markdown",
   "metadata": {},
   "source": [
    "## Activity:\n",
    "Using boto3, save your df2 to a feather file on AWS S3 with the key:<P>\n",
    "\n",
    "```\n",
    "/gse580/your_username/data/df2.feather\n",
    "```\n",
    "    "
   ]
  },
  {
   "cell_type": "code",
   "execution_count": 9,
   "metadata": {},
   "outputs": [],
   "source": [
    "# Don't forget, you have to perform 'aws configure' at a terminal CLI in SageMaker.\n",
    "#\n",
    "# (studiolab) studio-lab-user@default:~$ aws configure\n",
    "# AWS Access Key ID [****************I4JA]: \n",
    "# AWS Secret Access Key [****************7YuJ]: \n",
    "# Default region name [us-west-2]: \n",
    "# Default output format [json]:"
   ]
  },
  {
   "cell_type": "code",
   "execution_count": 10,
   "metadata": {},
   "outputs": [
    {
     "name": "stdout",
     "output_type": "stream",
     "text": [
      "kcolvin\n"
     ]
    }
   ],
   "source": [
    "# Recall code from last class meeting to get your username:\n",
    "session = boto3.Session()\n",
    "sts = session.client('sts')\n",
    "response = sts.get_caller_identity()\n",
    "my_username = response['Arn'].split('/')[1]\n",
    "print(my_username)"
   ]
  },
  {
   "cell_type": "code",
   "execution_count": 11,
   "metadata": {},
   "outputs": [
    {
     "name": "stdout",
     "output_type": "stream",
     "text": [
      "Successful S3 put_object response. Status - 200\n"
     ]
    }
   ],
   "source": [
    "# Code to save df2 to feather file on AWS S3\n",
    "s3c = session.client('s3')\n",
    "bucket = 'gse580'\n",
    "key = my_username+'/data/df2.feather'\n",
    "\n",
    "with io.BytesIO() as ff:\n",
    "    # Use the pandas to_feather() function\n",
    "    df2.to_feather(ff)\n",
    "    #\n",
    "    # Here is the put_object function\n",
    "    response = s3c.put_object(Bucket=bucket, Key=key, Body=ff.getvalue())\n",
    "    #\n",
    "    status = response.get(\"ResponseMetadata\", {}).get(\"HTTPStatusCode\")\n",
    "    #\n",
    "    if status == 200:\n",
    "        print(f\"Successful S3 put_object response. Status - {status}\")\n",
    "    else:\n",
    "        print(f\"Unsuccessful S3 put_object response. Status - {status}\")"
   ]
  },
  {
   "cell_type": "code",
   "execution_count": 12,
   "metadata": {},
   "outputs": [
    {
     "name": "stdout",
     "output_type": "stream",
     "text": [
      "It does exist:\n",
      "kcolvin/data/df2.feather\n"
     ]
    }
   ],
   "source": [
    "# Verify it exists:\n",
    "response = s3c.list_objects(Bucket=bucket)\n",
    "all_objects = response['Contents']\n",
    "for obj in all_objects:\n",
    "    # Search for your key in all the keys\n",
    "    if key in obj['Key']:\n",
    "        print('It does exist:')\n",
    "        print(obj['Key'])"
   ]
  },
  {
   "cell_type": "code",
   "execution_count": 13,
   "metadata": {},
   "outputs": [
    {
     "data": {
      "text/html": [
       "<div>\n",
       "<style scoped>\n",
       "    .dataframe tbody tr th:only-of-type {\n",
       "        vertical-align: middle;\n",
       "    }\n",
       "\n",
       "    .dataframe tbody tr th {\n",
       "        vertical-align: top;\n",
       "    }\n",
       "\n",
       "    .dataframe thead th {\n",
       "        text-align: right;\n",
       "    }\n",
       "</style>\n",
       "<table border=\"1\" class=\"dataframe\">\n",
       "  <thead>\n",
       "    <tr style=\"text-align: right;\">\n",
       "      <th></th>\n",
       "      <th>indicator</th>\n",
       "      <th>country</th>\n",
       "      <th>countryiso3code</th>\n",
       "      <th>date</th>\n",
       "      <th>value</th>\n",
       "      <th>unit</th>\n",
       "      <th>obs_status</th>\n",
       "      <th>decimal</th>\n",
       "    </tr>\n",
       "  </thead>\n",
       "  <tbody>\n",
       "    <tr>\n",
       "      <th>0</th>\n",
       "      <td>{'id': 'SP.DYN.LE00.IN', 'value': 'Life expect...</td>\n",
       "      <td>{'id': 'ZH', 'value': 'Africa Eastern and Sout...</td>\n",
       "      <td>AFE</td>\n",
       "      <td>2020</td>\n",
       "      <td>NaN</td>\n",
       "      <td></td>\n",
       "      <td></td>\n",
       "      <td>0</td>\n",
       "    </tr>\n",
       "    <tr>\n",
       "      <th>1</th>\n",
       "      <td>{'id': 'SP.DYN.LE00.IN', 'value': 'Life expect...</td>\n",
       "      <td>{'id': 'ZH', 'value': 'Africa Eastern and Sout...</td>\n",
       "      <td>AFE</td>\n",
       "      <td>2019</td>\n",
       "      <td>64.005197</td>\n",
       "      <td></td>\n",
       "      <td></td>\n",
       "      <td>0</td>\n",
       "    </tr>\n",
       "    <tr>\n",
       "      <th>2</th>\n",
       "      <td>{'id': 'SP.DYN.LE00.IN', 'value': 'Life expect...</td>\n",
       "      <td>{'id': 'ZH', 'value': 'Africa Eastern and Sout...</td>\n",
       "      <td>AFE</td>\n",
       "      <td>2018</td>\n",
       "      <td>63.648988</td>\n",
       "      <td></td>\n",
       "      <td></td>\n",
       "      <td>0</td>\n",
       "    </tr>\n",
       "  </tbody>\n",
       "</table>\n",
       "</div>"
      ],
      "text/plain": [
       "                                           indicator  \\\n",
       "0  {'id': 'SP.DYN.LE00.IN', 'value': 'Life expect...   \n",
       "1  {'id': 'SP.DYN.LE00.IN', 'value': 'Life expect...   \n",
       "2  {'id': 'SP.DYN.LE00.IN', 'value': 'Life expect...   \n",
       "\n",
       "                                             country countryiso3code  date  \\\n",
       "0  {'id': 'ZH', 'value': 'Africa Eastern and Sout...             AFE  2020   \n",
       "1  {'id': 'ZH', 'value': 'Africa Eastern and Sout...             AFE  2019   \n",
       "2  {'id': 'ZH', 'value': 'Africa Eastern and Sout...             AFE  2018   \n",
       "\n",
       "       value unit obs_status  decimal  \n",
       "0        NaN                        0  \n",
       "1  64.005197                        0  \n",
       "2  63.648988                        0  "
      ]
     },
     "execution_count": 13,
     "metadata": {},
     "output_type": "execute_result"
    }
   ],
   "source": [
    "# Read the Feather File from S3 directly into a pandas DF\n",
    "# bucket and key are defined above\n",
    "feather_obj = s3c.get_object(Bucket=bucket, Key=key)\n",
    "new_df = pd.read_feather(io.BytesIO(feather_obj['Body'].read()))\n",
    "new_df.head(3)"
   ]
  },
  {
   "cell_type": "code",
   "execution_count": null,
   "metadata": {},
   "outputs": [],
   "source": []
  }
 ],
 "metadata": {
  "kernelspec": {
   "display_name": "default:Python",
   "language": "python",
   "name": "conda-env-default-py"
  },
  "language_info": {
   "codemirror_mode": {
    "name": "ipython",
    "version": 3
   },
   "file_extension": ".py",
   "mimetype": "text/x-python",
   "name": "python",
   "nbconvert_exporter": "python",
   "pygments_lexer": "ipython3",
   "version": "3.9.9"
  }
 },
 "nbformat": 4,
 "nbformat_minor": 4
}
